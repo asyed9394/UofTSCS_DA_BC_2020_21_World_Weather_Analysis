{
 "cells": [
  {
   "cell_type": "markdown",
   "metadata": {},
   "source": [
    "## Deliverable 3. Create a Travel Itinerary Map."
   ]
  },
  {
   "cell_type": "code",
   "execution_count": 34,
   "metadata": {},
   "outputs": [],
   "source": [
    "# Dependencies and Setup\n",
    "import pandas as pd\n",
    "import requests\n",
    "import gmaps\n",
    "\n",
    "# Import API key\n",
    "from config import g_key\n",
    "\n",
    "# Configure gmaps\n",
    "gmaps.configure(api_key=g_key)\n",
    "\n",
    "#traceback\n",
    "import traceback"
   ]
  },
  {
   "cell_type": "code",
   "execution_count": 35,
   "metadata": {},
   "outputs": [
    {
     "data": {
      "text/html": [
       "<div>\n",
       "<style scoped>\n",
       "    .dataframe tbody tr th:only-of-type {\n",
       "        vertical-align: middle;\n",
       "    }\n",
       "\n",
       "    .dataframe tbody tr th {\n",
       "        vertical-align: top;\n",
       "    }\n",
       "\n",
       "    .dataframe thead th {\n",
       "        text-align: right;\n",
       "    }\n",
       "</style>\n",
       "<table border=\"1\" class=\"dataframe\">\n",
       "  <thead>\n",
       "    <tr style=\"text-align: right;\">\n",
       "      <th></th>\n",
       "      <th>City_ID</th>\n",
       "      <th>City</th>\n",
       "      <th>Country</th>\n",
       "      <th>Max Temp</th>\n",
       "      <th>Current Description</th>\n",
       "      <th>Lat</th>\n",
       "      <th>Lng</th>\n",
       "      <th>Hotel Name</th>\n",
       "    </tr>\n",
       "  </thead>\n",
       "  <tbody>\n",
       "    <tr>\n",
       "      <th>0</th>\n",
       "      <td>7</td>\n",
       "      <td>Sao Filipe</td>\n",
       "      <td>CV</td>\n",
       "      <td>70.39</td>\n",
       "      <td>overcast clouds</td>\n",
       "      <td>14.8961</td>\n",
       "      <td>-24.4956</td>\n",
       "      <td>Tortuga B&amp;B</td>\n",
       "    </tr>\n",
       "    <tr>\n",
       "      <th>1</th>\n",
       "      <td>9</td>\n",
       "      <td>Georgetown</td>\n",
       "      <td>MY</td>\n",
       "      <td>80.60</td>\n",
       "      <td>few clouds</td>\n",
       "      <td>5.4112</td>\n",
       "      <td>100.3354</td>\n",
       "      <td>Cititel Penang</td>\n",
       "    </tr>\n",
       "    <tr>\n",
       "      <th>2</th>\n",
       "      <td>10</td>\n",
       "      <td>Punta Arenas</td>\n",
       "      <td>CL</td>\n",
       "      <td>71.60</td>\n",
       "      <td>clear sky</td>\n",
       "      <td>-53.1500</td>\n",
       "      <td>-70.9167</td>\n",
       "      <td>Hotel Dreams Del Estrecho</td>\n",
       "    </tr>\n",
       "    <tr>\n",
       "      <th>3</th>\n",
       "      <td>13</td>\n",
       "      <td>Rikitea</td>\n",
       "      <td>PF</td>\n",
       "      <td>77.23</td>\n",
       "      <td>overcast clouds</td>\n",
       "      <td>-23.1203</td>\n",
       "      <td>-134.9692</td>\n",
       "      <td>Pension Maro'i</td>\n",
       "    </tr>\n",
       "    <tr>\n",
       "      <th>4</th>\n",
       "      <td>16</td>\n",
       "      <td>Souillac</td>\n",
       "      <td>MU</td>\n",
       "      <td>80.60</td>\n",
       "      <td>broken clouds</td>\n",
       "      <td>-20.5167</td>\n",
       "      <td>57.5167</td>\n",
       "      <td>Shanti Maurice Resort &amp; Spa</td>\n",
       "    </tr>\n",
       "  </tbody>\n",
       "</table>\n",
       "</div>"
      ],
      "text/plain": [
       "   City_ID          City Country  Max Temp Current Description      Lat  \\\n",
       "0        7    Sao Filipe      CV     70.39     overcast clouds  14.8961   \n",
       "1        9    Georgetown      MY     80.60          few clouds   5.4112   \n",
       "2       10  Punta Arenas      CL     71.60           clear sky -53.1500   \n",
       "3       13       Rikitea      PF     77.23     overcast clouds -23.1203   \n",
       "4       16      Souillac      MU     80.60       broken clouds -20.5167   \n",
       "\n",
       "        Lng                   Hotel Name  \n",
       "0  -24.4956                  Tortuga B&B  \n",
       "1  100.3354               Cititel Penang  \n",
       "2  -70.9167    Hotel Dreams Del Estrecho  \n",
       "3 -134.9692               Pension Maro'i  \n",
       "4   57.5167  Shanti Maurice Resort & Spa  "
      ]
     },
     "execution_count": 35,
     "metadata": {},
     "output_type": "execute_result"
    }
   ],
   "source": [
    "# 1. Read the WeatherPy_vacation.csv into a DataFrame.\n",
    "vacation_df = pd.read_csv(\"../Vacation_Search/WeatherPy_vacation.csv\")\n",
    "vacation_df.head()"
   ]
  },
  {
   "cell_type": "code",
   "execution_count": 36,
   "metadata": {},
   "outputs": [
    {
     "data": {
      "text/plain": [
       "Oceano                                 2\n",
       "M.O.S. Logística - Filial Fortaleza    1\n",
       "Casa Dora, Bubaque                     1\n",
       "Bonifacio Lodge                        1\n",
       "Casa do Ian😎                           1\n",
       "                                      ..\n",
       "Maringe Lagoon Lodge                   1\n",
       "Keleti Beach Resort                    1\n",
       "Castle Motor Lodge Motel               1\n",
       "Hospitality Carnarvon                  1\n",
       "Pousada Porto De Canoas                1\n",
       "Name: Hotel Name, Length: 222, dtype: int64"
      ]
     },
     "execution_count": 36,
     "metadata": {},
     "output_type": "execute_result"
    }
   ],
   "source": [
    "#check counts\n",
    "vacation_df[\"Hotel Name\"].value_counts()"
   ]
  },
  {
   "cell_type": "code",
   "execution_count": 37,
   "metadata": {},
   "outputs": [
    {
     "data": {
      "text/html": [
       "<div>\n",
       "<style scoped>\n",
       "    .dataframe tbody tr th:only-of-type {\n",
       "        vertical-align: middle;\n",
       "    }\n",
       "\n",
       "    .dataframe tbody tr th {\n",
       "        vertical-align: top;\n",
       "    }\n",
       "\n",
       "    .dataframe thead th {\n",
       "        text-align: right;\n",
       "    }\n",
       "</style>\n",
       "<table border=\"1\" class=\"dataframe\">\n",
       "  <thead>\n",
       "    <tr style=\"text-align: right;\">\n",
       "      <th></th>\n",
       "      <th>City_ID</th>\n",
       "      <th>City</th>\n",
       "      <th>Country</th>\n",
       "      <th>Max Temp</th>\n",
       "      <th>Current Description</th>\n",
       "      <th>Lat</th>\n",
       "      <th>Lng</th>\n",
       "      <th>Hotel Name</th>\n",
       "    </tr>\n",
       "  </thead>\n",
       "  <tbody>\n",
       "    <tr>\n",
       "      <th>0</th>\n",
       "      <td>7</td>\n",
       "      <td>Sao Filipe</td>\n",
       "      <td>CV</td>\n",
       "      <td>70.39</td>\n",
       "      <td>overcast clouds</td>\n",
       "      <td>14.8961</td>\n",
       "      <td>-24.4956</td>\n",
       "      <td>Tortuga B&amp;B</td>\n",
       "    </tr>\n",
       "    <tr>\n",
       "      <th>1</th>\n",
       "      <td>9</td>\n",
       "      <td>Georgetown</td>\n",
       "      <td>MY</td>\n",
       "      <td>80.60</td>\n",
       "      <td>few clouds</td>\n",
       "      <td>5.4112</td>\n",
       "      <td>100.3354</td>\n",
       "      <td>Cititel Penang</td>\n",
       "    </tr>\n",
       "    <tr>\n",
       "      <th>2</th>\n",
       "      <td>10</td>\n",
       "      <td>Punta Arenas</td>\n",
       "      <td>CL</td>\n",
       "      <td>71.60</td>\n",
       "      <td>clear sky</td>\n",
       "      <td>-53.1500</td>\n",
       "      <td>-70.9167</td>\n",
       "      <td>Hotel Dreams Del Estrecho</td>\n",
       "    </tr>\n",
       "    <tr>\n",
       "      <th>3</th>\n",
       "      <td>13</td>\n",
       "      <td>Rikitea</td>\n",
       "      <td>PF</td>\n",
       "      <td>77.23</td>\n",
       "      <td>overcast clouds</td>\n",
       "      <td>-23.1203</td>\n",
       "      <td>-134.9692</td>\n",
       "      <td>Pension Maro'i</td>\n",
       "    </tr>\n",
       "    <tr>\n",
       "      <th>4</th>\n",
       "      <td>16</td>\n",
       "      <td>Souillac</td>\n",
       "      <td>MU</td>\n",
       "      <td>80.60</td>\n",
       "      <td>broken clouds</td>\n",
       "      <td>-20.5167</td>\n",
       "      <td>57.5167</td>\n",
       "      <td>Shanti Maurice Resort &amp; Spa</td>\n",
       "    </tr>\n",
       "    <tr>\n",
       "      <th>...</th>\n",
       "      <td>...</td>\n",
       "      <td>...</td>\n",
       "      <td>...</td>\n",
       "      <td>...</td>\n",
       "      <td>...</td>\n",
       "      <td>...</td>\n",
       "      <td>...</td>\n",
       "      <td>...</td>\n",
       "    </tr>\n",
       "    <tr>\n",
       "      <th>240</th>\n",
       "      <td>684</td>\n",
       "      <td>Pecanha</td>\n",
       "      <td>BR</td>\n",
       "      <td>70.25</td>\n",
       "      <td>light rain</td>\n",
       "      <td>-18.5486</td>\n",
       "      <td>-42.5569</td>\n",
       "      <td>PEÇANHA GRANDE HOTEL</td>\n",
       "    </tr>\n",
       "    <tr>\n",
       "      <th>241</th>\n",
       "      <td>685</td>\n",
       "      <td>Bundaberg</td>\n",
       "      <td>AU</td>\n",
       "      <td>82.00</td>\n",
       "      <td>broken clouds</td>\n",
       "      <td>-24.8500</td>\n",
       "      <td>152.3500</td>\n",
       "      <td>Takalvan Motel</td>\n",
       "    </tr>\n",
       "    <tr>\n",
       "      <th>242</th>\n",
       "      <td>687</td>\n",
       "      <td>Augusto Correa</td>\n",
       "      <td>BR</td>\n",
       "      <td>82.71</td>\n",
       "      <td>moderate rain</td>\n",
       "      <td>-1.0217</td>\n",
       "      <td>-46.6350</td>\n",
       "      <td>Fazenda Bacuri</td>\n",
       "    </tr>\n",
       "    <tr>\n",
       "      <th>243</th>\n",
       "      <td>690</td>\n",
       "      <td>Gondanglegi</td>\n",
       "      <td>ID</td>\n",
       "      <td>74.95</td>\n",
       "      <td>light rain</td>\n",
       "      <td>-7.7479</td>\n",
       "      <td>112.0132</td>\n",
       "      <td>Gg. Munasir Homestay</td>\n",
       "    </tr>\n",
       "    <tr>\n",
       "      <th>244</th>\n",
       "      <td>691</td>\n",
       "      <td>Buala</td>\n",
       "      <td>SB</td>\n",
       "      <td>80.44</td>\n",
       "      <td>light rain</td>\n",
       "      <td>-8.1450</td>\n",
       "      <td>159.5921</td>\n",
       "      <td>Maringe Lagoon Lodge</td>\n",
       "    </tr>\n",
       "  </tbody>\n",
       "</table>\n",
       "<p>245 rows × 8 columns</p>\n",
       "</div>"
      ],
      "text/plain": [
       "     City_ID            City Country  Max Temp Current Description      Lat  \\\n",
       "0          7      Sao Filipe      CV     70.39     overcast clouds  14.8961   \n",
       "1          9      Georgetown      MY     80.60          few clouds   5.4112   \n",
       "2         10    Punta Arenas      CL     71.60           clear sky -53.1500   \n",
       "3         13         Rikitea      PF     77.23     overcast clouds -23.1203   \n",
       "4         16        Souillac      MU     80.60       broken clouds -20.5167   \n",
       "..       ...             ...     ...       ...                 ...      ...   \n",
       "240      684         Pecanha      BR     70.25          light rain -18.5486   \n",
       "241      685       Bundaberg      AU     82.00       broken clouds -24.8500   \n",
       "242      687  Augusto Correa      BR     82.71       moderate rain  -1.0217   \n",
       "243      690     Gondanglegi      ID     74.95          light rain  -7.7479   \n",
       "244      691           Buala      SB     80.44          light rain  -8.1450   \n",
       "\n",
       "          Lng                   Hotel Name  \n",
       "0    -24.4956                  Tortuga B&B  \n",
       "1    100.3354               Cititel Penang  \n",
       "2    -70.9167    Hotel Dreams Del Estrecho  \n",
       "3   -134.9692               Pension Maro'i  \n",
       "4     57.5167  Shanti Maurice Resort & Spa  \n",
       "..        ...                          ...  \n",
       "240  -42.5569         PEÇANHA GRANDE HOTEL  \n",
       "241  152.3500               Takalvan Motel  \n",
       "242  -46.6350               Fazenda Bacuri  \n",
       "243  112.0132         Gg. Munasir Homestay  \n",
       "244  159.5921         Maringe Lagoon Lodge  \n",
       "\n",
       "[245 rows x 8 columns]"
      ]
     },
     "execution_count": 37,
     "metadata": {},
     "output_type": "execute_result"
    }
   ],
   "source": [
    "#check full data\n",
    "vacation_df"
   ]
  },
  {
   "cell_type": "code",
   "execution_count": 38,
   "metadata": {},
   "outputs": [],
   "source": [
    "# 2. Using the template add the city name, the country code, the weather description and maximum temperature for the city.\n",
    "info_box_template = \"\"\"\n",
    "<dl>\n",
    "<dt>Hotel Name</dt><dd>{Hotel Name}</dd>\n",
    "<dt>City</dt><dd>{City}</dd>\n",
    "<dt>Country</dt><dd>{Country}</dd>\n",
    "<dt>Current Weather</dt><dd>{Current Description} and {Max Temp} °F </dd><dt>\n",
    "</dl>\n",
    "\"\"\"\n",
    "\n",
    "# 3a. Get the data from each row and add it to the formatting template and store the data in a list.\n",
    "hotel_info = [info_box_template.format(**row) for index, row in vacation_df.iterrows()]\n",
    "\n",
    "# 3b. Get the latitude and longitude from each row and store in a new DataFrame.\n",
    "locations = vacation_df[[\"Lat\", \"Lng\"]]"
   ]
  },
  {
   "cell_type": "code",
   "execution_count": 39,
   "metadata": {},
   "outputs": [
    {
     "data": {
      "application/vnd.jupyter.widget-view+json": {
       "model_id": "d0a216e91eff4332865b2b67e7f58784",
       "version_major": 2,
       "version_minor": 0
      },
      "text/plain": [
       "Figure(layout=FigureLayout(height='420px'))"
      ]
     },
     "metadata": {},
     "output_type": "display_data"
    }
   ],
   "source": [
    "# 4a. Add a marker layer for each city to the map.\n",
    "marker_layer = gmaps.marker_layer(locations, info_box_content=hotel_info)\n",
    "# 4b. Display the figure\n",
    "fig = gmaps.figure(center=(30.0, 31.0), zoom_level=1.5)\n",
    "fig.add_layer(marker_layer)\n",
    "fig\n"
   ]
  },
  {
   "cell_type": "code",
   "execution_count": 40,
   "metadata": {},
   "outputs": [],
   "source": [
    "# From the map above pick 4 cities and create a vacation itinerary route to travel between the four cities. \n",
    "# 5. Create DataFrames for each city by filtering the 'vacation_df' using the loc method. \n",
    "# Hint: The starting and ending city should be the same city.\n",
    "\n",
    "vacation_start = vacation_df.loc[ vacation_df [\"City\"] == \"Yokadouma\" ]\n",
    "vacation_end = vacation_df.loc[ vacation_df [\"City\"] == \"Yokadouma\" ]\n",
    "vacation_stop1 = vacation_df.loc[ vacation_df [\"City\"] == \"Hobyo\" ] \n",
    "vacation_stop2 = vacation_df.loc[ vacation_df [\"City\"] == \"Liwale\" ] \n",
    "vacation_stop3 = vacation_df.loc[vacation_df [\"City\"] == \"Sehithwa\" ] "
   ]
  },
  {
   "cell_type": "code",
   "execution_count": 41,
   "metadata": {},
   "outputs": [],
   "source": [
    "# 6. Get the latitude-longitude pairs as tuples from each city DataFrame using the to_numpy function and list indexing.\n",
    "start = vacation_start[\"Lat\"].to_numpy()[0], vacation_start[\"Lng\"].to_numpy()[0]\n",
    "end =  vacation_end[\"Lat\"].to_numpy()[0], vacation_end[\"Lng\"].to_numpy()[0]\n",
    "stop1 = vacation_stop1[\"Lat\"].to_numpy()[0], vacation_stop1[\"Lng\"].to_numpy()[0]\n",
    "stop2 = vacation_stop2[\"Lat\"].to_numpy()[0], vacation_stop2[\"Lng\"].to_numpy()[0]\n",
    "stop3 = vacation_stop3[\"Lat\"].to_numpy()[0], vacation_stop3[\"Lng\"].to_numpy()[0]"
   ]
  },
  {
   "cell_type": "code",
   "execution_count": 42,
   "metadata": {
    "scrolled": true
   },
   "outputs": [],
   "source": [
    "# 7. Create a direction layer map using the start and end latitude-longitude pairs,\n",
    "# and stop1, stop2, and stop3 as the waypoints. The travel_mode should be \"DRIVING\", \"BICYCLING\", or \"WALKING\".\n",
    "\n",
    "city_itinerary = gmaps.directions_layer(\n",
    "        start, end, waypoints=[stop1, stop2, stop3],\n",
    "        travel_mode='DRIVING')\n",
    "\n"
   ]
  },
  {
   "cell_type": "code",
   "execution_count": 43,
   "metadata": {},
   "outputs": [
    {
     "data": {
      "text/html": [
       "<div>\n",
       "<style scoped>\n",
       "    .dataframe tbody tr th:only-of-type {\n",
       "        vertical-align: middle;\n",
       "    }\n",
       "\n",
       "    .dataframe tbody tr th {\n",
       "        vertical-align: top;\n",
       "    }\n",
       "\n",
       "    .dataframe thead th {\n",
       "        text-align: right;\n",
       "    }\n",
       "</style>\n",
       "<table border=\"1\" class=\"dataframe\">\n",
       "  <thead>\n",
       "    <tr style=\"text-align: right;\">\n",
       "      <th></th>\n",
       "      <th>City_ID</th>\n",
       "      <th>City</th>\n",
       "      <th>Country</th>\n",
       "      <th>Max Temp</th>\n",
       "      <th>Current Description</th>\n",
       "      <th>Lat</th>\n",
       "      <th>Lng</th>\n",
       "      <th>Hotel Name</th>\n",
       "    </tr>\n",
       "  </thead>\n",
       "  <tbody>\n",
       "    <tr>\n",
       "      <th>0</th>\n",
       "      <td>361</td>\n",
       "      <td>Yokadouma</td>\n",
       "      <td>CM</td>\n",
       "      <td>73.89</td>\n",
       "      <td>overcast clouds</td>\n",
       "      <td>3.5167</td>\n",
       "      <td>15.0500</td>\n",
       "      <td>Hôtel De Ville De Yokadouma</td>\n",
       "    </tr>\n",
       "    <tr>\n",
       "      <th>1</th>\n",
       "      <td>361</td>\n",
       "      <td>Yokadouma</td>\n",
       "      <td>CM</td>\n",
       "      <td>73.89</td>\n",
       "      <td>overcast clouds</td>\n",
       "      <td>3.5167</td>\n",
       "      <td>15.0500</td>\n",
       "      <td>Hôtel De Ville De Yokadouma</td>\n",
       "    </tr>\n",
       "    <tr>\n",
       "      <th>2</th>\n",
       "      <td>388</td>\n",
       "      <td>Hobyo</td>\n",
       "      <td>SO</td>\n",
       "      <td>78.10</td>\n",
       "      <td>clear sky</td>\n",
       "      <td>5.3505</td>\n",
       "      <td>48.5268</td>\n",
       "      <td>Halane Hotel and Restaurent</td>\n",
       "    </tr>\n",
       "    <tr>\n",
       "      <th>3</th>\n",
       "      <td>469</td>\n",
       "      <td>Liwale</td>\n",
       "      <td>TZ</td>\n",
       "      <td>70.93</td>\n",
       "      <td>overcast clouds</td>\n",
       "      <td>-9.7667</td>\n",
       "      <td>37.9333</td>\n",
       "      <td>Samoma Lodge</td>\n",
       "    </tr>\n",
       "    <tr>\n",
       "      <th>4</th>\n",
       "      <td>634</td>\n",
       "      <td>Sehithwa</td>\n",
       "      <td>BW</td>\n",
       "      <td>69.21</td>\n",
       "      <td>moderate rain</td>\n",
       "      <td>-20.4667</td>\n",
       "      <td>22.7167</td>\n",
       "      <td>MONLEK GUEST HOUSE</td>\n",
       "    </tr>\n",
       "  </tbody>\n",
       "</table>\n",
       "</div>"
      ],
      "text/plain": [
       "   City_ID       City Country  Max Temp Current Description      Lat      Lng  \\\n",
       "0      361  Yokadouma      CM     73.89     overcast clouds   3.5167  15.0500   \n",
       "1      361  Yokadouma      CM     73.89     overcast clouds   3.5167  15.0500   \n",
       "2      388      Hobyo      SO     78.10           clear sky   5.3505  48.5268   \n",
       "3      469     Liwale      TZ     70.93     overcast clouds  -9.7667  37.9333   \n",
       "4      634   Sehithwa      BW     69.21       moderate rain -20.4667  22.7167   \n",
       "\n",
       "                    Hotel Name  \n",
       "0  Hôtel De Ville De Yokadouma  \n",
       "1  Hôtel De Ville De Yokadouma  \n",
       "2  Halane Hotel and Restaurent  \n",
       "3                 Samoma Lodge  \n",
       "4           MONLEK GUEST HOUSE  "
      ]
     },
     "execution_count": 43,
     "metadata": {},
     "output_type": "execute_result"
    }
   ],
   "source": [
    "# 8. To create a marker layer map between the four cities.\n",
    "#  Combine the four city DataFrames into one DataFrame using the concat() function.\n",
    "itinerary_df = pd.concat([vacation_start,vacation_end,vacation_stop1,vacation_stop2,vacation_stop3],ignore_index=True)\n",
    "itinerary_df"
   ]
  },
  {
   "cell_type": "code",
   "execution_count": 51,
   "metadata": {},
   "outputs": [
    {
     "data": {
      "text/plain": [
       "['\\n<dl>\\n<dt>Hotel Name</dt><dd>Hôtel De Ville De Yokadouma</dd>\\n<dt>City</dt><dd>Yokadouma</dd>\\n<dt>Country</dt><dd>CM</dd>\\n<dt>Current Weather</dt><dd>overcast clouds and 73.89 °F </dd><dt>\\n</dl>\\n',\n",
       " '\\n<dl>\\n<dt>Hotel Name</dt><dd>Hôtel De Ville De Yokadouma</dd>\\n<dt>City</dt><dd>Yokadouma</dd>\\n<dt>Country</dt><dd>CM</dd>\\n<dt>Current Weather</dt><dd>overcast clouds and 73.89 °F </dd><dt>\\n</dl>\\n',\n",
       " '\\n<dl>\\n<dt>Hotel Name</dt><dd>Halane Hotel and Restaurent</dd>\\n<dt>City</dt><dd>Hobyo</dd>\\n<dt>Country</dt><dd>SO</dd>\\n<dt>Current Weather</dt><dd>clear sky and 78.1 °F </dd><dt>\\n</dl>\\n',\n",
       " '\\n<dl>\\n<dt>Hotel Name</dt><dd>Samoma Lodge</dd>\\n<dt>City</dt><dd>Liwale</dd>\\n<dt>Country</dt><dd>TZ</dd>\\n<dt>Current Weather</dt><dd>overcast clouds and 70.93 °F </dd><dt>\\n</dl>\\n',\n",
       " '\\n<dl>\\n<dt>Hotel Name</dt><dd>MONLEK GUEST HOUSE</dd>\\n<dt>City</dt><dd>Sehithwa</dd>\\n<dt>Country</dt><dd>BW</dd>\\n<dt>Current Weather</dt><dd>moderate rain and 69.21 °F </dd><dt>\\n</dl>\\n']"
      ]
     },
     "execution_count": 51,
     "metadata": {},
     "output_type": "execute_result"
    }
   ],
   "source": [
    "# 9 Using the template add city name, the country code, the weather description and maximum temperature for the city. \n",
    "info_box_template = \"\"\"\n",
    "<dl>\n",
    "<dt>Hotel Name</dt><dd>{Hotel Name}</dd>\n",
    "<dt>City</dt><dd>{City}</dd>\n",
    "<dt>Country</dt><dd>{Country}</dd>\n",
    "<dt>Current Weather</dt><dd>{Current Description} and {Max Temp} °F </dd><dt>\n",
    "</dl>\n",
    "\"\"\"\n",
    "\n",
    "# 10a Get the data from each row and add it to the formatting template and store the data in a list.\n",
    "hotel_info = [info_box_template.format(**row) for index, row in itinerary_df.iterrows()]\n",
    "\n",
    "# 10b. Get the latitude and longitude from each row and store in a new DataFrame.\n",
    "locations = itinerary_df[[\"Lat\", \"Lng\"]]\n",
    "hotel_info"
   ]
  },
  {
   "cell_type": "code",
   "execution_count": 52,
   "metadata": {},
   "outputs": [
    {
     "data": {
      "application/vnd.jupyter.widget-view+json": {
       "model_id": "23e3eb75556b47cca901c6872ede480e",
       "version_major": 2,
       "version_minor": 0
      },
      "text/plain": [
       "Figure(layout=FigureLayout(height='420px'))"
      ]
     },
     "metadata": {},
     "output_type": "display_data"
    }
   ],
   "source": [
    "fig = gmaps.figure(center=(30.0, 31.0), zoom_level=1.5)\n",
    "# 11a. Add a marker layer for each city to the map.\n",
    "marker_layer = gmaps.marker_layer(locations, info_box_content=hotel_info)\n",
    "\n",
    "#fig.add_layer(marker_layer)\n",
    "fig.add_layer(city_itinerary)\n",
    "# 11b. Display the figure\n",
    "\n",
    "fig"
   ]
  },
  {
   "cell_type": "code",
   "execution_count": 53,
   "metadata": {},
   "outputs": [
    {
     "data": {
      "application/vnd.jupyter.widget-view+json": {
       "model_id": "86a0603e5efa454b9be5c2a116d5ddb4",
       "version_major": 2,
       "version_minor": 0
      },
      "text/plain": [
       "Figure(layout=FigureLayout(height='420px'))"
      ]
     },
     "metadata": {},
     "output_type": "display_data"
    }
   ],
   "source": [
    "fig = gmaps.figure(center=(30.0, 31.0), zoom_level=1.5)\n",
    "# 11a. Add a marker layer for each city to the map.\n",
    "marker_layer = gmaps.marker_layer(locations, info_box_content=hotel_info)\n",
    "\n",
    "#fig.add_layer(marker_layer)\n",
    "fig.add_layer(marker_layer)\n",
    "# 11b. Display the figure\n",
    "\n",
    "fig"
   ]
  },
  {
   "cell_type": "code",
   "execution_count": null,
   "metadata": {},
   "outputs": [],
   "source": []
  }
 ],
 "metadata": {
  "kernelspec": {
   "display_name": "PythonData",
   "language": "python",
   "name": "pythondata"
  },
  "language_info": {
   "codemirror_mode": {
    "name": "ipython",
    "version": 3
   },
   "file_extension": ".py",
   "mimetype": "text/x-python",
   "name": "python",
   "nbconvert_exporter": "python",
   "pygments_lexer": "ipython3",
   "version": "3.7.9"
  },
  "latex_envs": {
   "LaTeX_envs_menu_present": true,
   "autoclose": false,
   "autocomplete": true,
   "bibliofile": "biblio.bib",
   "cite_by": "apalike",
   "current_citInitial": 1,
   "eqLabelWithNumbers": true,
   "eqNumInitial": 1,
   "hotkeys": {
    "equation": "Ctrl-E",
    "itemize": "Ctrl-I"
   },
   "labels_anchors": false,
   "latex_user_defs": false,
   "report_style_numbering": false,
   "user_envs_cfg": false
  }
 },
 "nbformat": 4,
 "nbformat_minor": 2
}
