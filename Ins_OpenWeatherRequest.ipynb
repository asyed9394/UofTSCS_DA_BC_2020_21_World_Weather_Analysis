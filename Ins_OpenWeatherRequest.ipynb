{
 "cells": [
  {
   "cell_type": "code",
   "execution_count": 1,
   "metadata": {},
   "outputs": [],
   "source": [
    "# Dependencies\n",
    "import json\n",
    "import requests\n",
    "from config import api_key"
   ]
  },
  {
   "cell_type": "code",
   "execution_count": 2,
   "metadata": {},
   "outputs": [],
   "source": [
    "# Save config information\n",
    "url = \"http://api.openweathermap.org/data/2.5/weather?\"\n",
    "city = \"London\"\n",
    "\n",
    "# Build query URL\n",
    "query_url = f\"{url}&appid={api_key}&q={city}\"\n",
    "#print (query_url)"
   ]
  },
  {
   "cell_type": "code",
   "execution_count": 3,
   "metadata": {},
   "outputs": [
    {
     "data": {
      "text/plain": [
       "{'coord': {'lon': -0.1257, 'lat': 51.5085},\n",
       " 'weather': [{'id': 600,\n",
       "   'main': 'Snow',\n",
       "   'description': 'light snow',\n",
       "   'icon': '13d'}],\n",
       " 'base': 'stations',\n",
       " 'main': {'temp': 274.05,\n",
       "  'feels_like': 268.17,\n",
       "  'temp_min': 272.59,\n",
       "  'temp_max': 275.37,\n",
       "  'pressure': 1003,\n",
       "  'humidity': 80},\n",
       " 'visibility': 6000,\n",
       " 'wind': {'speed': 5.14, 'deg': 10},\n",
       " 'snow': {'1h': 0.18},\n",
       " 'clouds': {'all': 90},\n",
       " 'dt': 1612712977,\n",
       " 'sys': {'type': 1,\n",
       "  'id': 1414,\n",
       "  'country': 'GB',\n",
       "  'sunrise': 1612682938,\n",
       "  'sunset': 1612717223},\n",
       " 'timezone': 0,\n",
       " 'id': 2643743,\n",
       " 'name': 'London',\n",
       " 'cod': 200}"
      ]
     },
     "execution_count": 3,
     "metadata": {},
     "output_type": "execute_result"
    }
   ],
   "source": [
    "# Get weather data\n",
    "request = requests.get(query_url).json()\n",
    "request\n",
    "# Get the temperature from the response"
   ]
  },
  {
   "cell_type": "code",
   "execution_count": null,
   "metadata": {},
   "outputs": [],
   "source": []
  },
  {
   "cell_type": "code",
   "execution_count": null,
   "metadata": {},
   "outputs": [],
   "source": []
  }
 ],
 "metadata": {
  "kernelspec": {
   "display_name": "Python 3",
   "language": "python",
   "name": "python3"
  },
  "language_info": {
   "codemirror_mode": {
    "name": "ipython",
    "version": 3
   },
   "file_extension": ".py",
   "mimetype": "text/x-python",
   "name": "python",
   "nbconvert_exporter": "python",
   "pygments_lexer": "ipython3",
   "version": "3.7.9"
  },
  "varInspector": {
   "cols": {
    "lenName": 16,
    "lenType": 16,
    "lenVar": 40
   },
   "kernels_config": {
    "python": {
     "delete_cmd_postfix": "",
     "delete_cmd_prefix": "del ",
     "library": "var_list.py",
     "varRefreshCmd": "print(var_dic_list())"
    },
    "r": {
     "delete_cmd_postfix": ") ",
     "delete_cmd_prefix": "rm(",
     "library": "var_list.r",
     "varRefreshCmd": "cat(var_dic_list()) "
    }
   },
   "types_to_exclude": [
    "module",
    "function",
    "builtin_function_or_method",
    "instance",
    "_Feature"
   ],
   "window_display": false
  }
 },
 "nbformat": 4,
 "nbformat_minor": 2
}
