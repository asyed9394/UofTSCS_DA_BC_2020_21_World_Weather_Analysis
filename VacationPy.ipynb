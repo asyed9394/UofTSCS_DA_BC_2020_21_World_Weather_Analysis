{
 "cells": [
  {
   "cell_type": "code",
   "execution_count": 1,
   "metadata": {},
   "outputs": [],
   "source": [
    "# Import the dependencies.\n",
    "import pandas as pd\n",
    "import gmaps\n",
    "import requests\n",
    "# Import the API key.\n",
    "from config import g_key"
   ]
  },
  {
   "cell_type": "code",
   "execution_count": 2,
   "metadata": {},
   "outputs": [
    {
     "data": {
      "text/html": [
       "<div>\n",
       "<style scoped>\n",
       "    .dataframe tbody tr th:only-of-type {\n",
       "        vertical-align: middle;\n",
       "    }\n",
       "\n",
       "    .dataframe tbody tr th {\n",
       "        vertical-align: top;\n",
       "    }\n",
       "\n",
       "    .dataframe thead th {\n",
       "        text-align: right;\n",
       "    }\n",
       "</style>\n",
       "<table border=\"1\" class=\"dataframe\">\n",
       "  <thead>\n",
       "    <tr style=\"text-align: right;\">\n",
       "      <th></th>\n",
       "      <th>City_ID</th>\n",
       "      <th>City</th>\n",
       "      <th>Country</th>\n",
       "      <th>Date</th>\n",
       "      <th>Lat</th>\n",
       "      <th>Lng</th>\n",
       "      <th>Max Temp</th>\n",
       "      <th>Humidity</th>\n",
       "      <th>Cloudiness</th>\n",
       "      <th>Wind Speed</th>\n",
       "    </tr>\n",
       "  </thead>\n",
       "  <tbody>\n",
       "    <tr>\n",
       "      <th>0</th>\n",
       "      <td>0</td>\n",
       "      <td>Rikitea</td>\n",
       "      <td>PF</td>\n",
       "      <td>2021-02-07 14:18:32</td>\n",
       "      <td>-23.1203</td>\n",
       "      <td>-134.9692</td>\n",
       "      <td>76.89</td>\n",
       "      <td>73</td>\n",
       "      <td>89</td>\n",
       "      <td>9.40</td>\n",
       "    </tr>\n",
       "    <tr>\n",
       "      <th>1</th>\n",
       "      <td>1</td>\n",
       "      <td>Kavieng</td>\n",
       "      <td>PG</td>\n",
       "      <td>2021-02-07 14:18:32</td>\n",
       "      <td>-2.5744</td>\n",
       "      <td>150.7967</td>\n",
       "      <td>83.10</td>\n",
       "      <td>76</td>\n",
       "      <td>28</td>\n",
       "      <td>9.84</td>\n",
       "    </tr>\n",
       "    <tr>\n",
       "      <th>2</th>\n",
       "      <td>2</td>\n",
       "      <td>Leningradskiy</td>\n",
       "      <td>RU</td>\n",
       "      <td>2021-02-07 14:18:32</td>\n",
       "      <td>69.3833</td>\n",
       "      <td>178.4167</td>\n",
       "      <td>-12.44</td>\n",
       "      <td>75</td>\n",
       "      <td>15</td>\n",
       "      <td>5.57</td>\n",
       "    </tr>\n",
       "    <tr>\n",
       "      <th>3</th>\n",
       "      <td>3</td>\n",
       "      <td>Salalah</td>\n",
       "      <td>OM</td>\n",
       "      <td>2021-02-07 14:18:32</td>\n",
       "      <td>17.0151</td>\n",
       "      <td>54.0924</td>\n",
       "      <td>77.00</td>\n",
       "      <td>65</td>\n",
       "      <td>75</td>\n",
       "      <td>8.05</td>\n",
       "    </tr>\n",
       "    <tr>\n",
       "      <th>4</th>\n",
       "      <td>4</td>\n",
       "      <td>Kayunga</td>\n",
       "      <td>UG</td>\n",
       "      <td>2021-02-07 14:18:32</td>\n",
       "      <td>0.7025</td>\n",
       "      <td>32.8886</td>\n",
       "      <td>92.66</td>\n",
       "      <td>17</td>\n",
       "      <td>71</td>\n",
       "      <td>6.62</td>\n",
       "    </tr>\n",
       "  </tbody>\n",
       "</table>\n",
       "</div>"
      ],
      "text/plain": [
       "   City_ID           City Country                 Date      Lat       Lng  \\\n",
       "0        0        Rikitea      PF  2021-02-07 14:18:32 -23.1203 -134.9692   \n",
       "1        1        Kavieng      PG  2021-02-07 14:18:32  -2.5744  150.7967   \n",
       "2        2  Leningradskiy      RU  2021-02-07 14:18:32  69.3833  178.4167   \n",
       "3        3        Salalah      OM  2021-02-07 14:18:32  17.0151   54.0924   \n",
       "4        4        Kayunga      UG  2021-02-07 14:18:32   0.7025   32.8886   \n",
       "\n",
       "   Max Temp  Humidity  Cloudiness  Wind Speed  \n",
       "0     76.89        73          89        9.40  \n",
       "1     83.10        76          28        9.84  \n",
       "2    -12.44        75          15        5.57  \n",
       "3     77.00        65          75        8.05  \n",
       "4     92.66        17          71        6.62  "
      ]
     },
     "execution_count": 2,
     "metadata": {},
     "output_type": "execute_result"
    }
   ],
   "source": [
    "# Store the CSV you saved created in part one into a DataFrame.\n",
    "city_data_df = pd.read_csv(\"weather_data/cities.csv\")\n",
    "city_data_df.head()"
   ]
  },
  {
   "cell_type": "code",
   "execution_count": 3,
   "metadata": {},
   "outputs": [
    {
     "data": {
      "text/plain": [
       "City_ID         int64\n",
       "City           object\n",
       "Country        object\n",
       "Date           object\n",
       "Lat           float64\n",
       "Lng           float64\n",
       "Max Temp      float64\n",
       "Humidity        int64\n",
       "Cloudiness      int64\n",
       "Wind Speed    float64\n",
       "dtype: object"
      ]
     },
     "execution_count": 3,
     "metadata": {},
     "output_type": "execute_result"
    }
   ],
   "source": [
    "city_data_df.dtypes"
   ]
  },
  {
   "cell_type": "code",
   "execution_count": 8,
   "metadata": {},
   "outputs": [],
   "source": [
    "# Configure gmaps to use your Google API key.\n",
    "gmaps.configure(api_key=g_key)"
   ]
  },
  {
   "cell_type": "code",
   "execution_count": 9,
   "metadata": {},
   "outputs": [],
   "source": [
    "#Google heatmaps do not plot negative numbers. If you have a maximum temperature that is less than 0 °F, \n",
    "#then you will get an InvalidWeightException error for this line of code:\n",
    "#To remove the negative temperatures we can use a for loop to iterate through the max_temp \n",
    "#and add the temperatures that are greater than 0 °F to a new list.\n",
    "# Get the maximum temperature.\n",
    "max_temp = city_data_df[\"Max Temp\"]\n",
    "temps = []\n",
    "for temp in max_temp:\n",
    "    temps.append(max(temp, 0))"
   ]
  },
  {
   "cell_type": "code",
   "execution_count": 11,
   "metadata": {},
   "outputs": [
    {
     "data": {
      "application/vnd.jupyter.widget-view+json": {
       "model_id": "6f60c19047084eeda32b75279fc54c94",
       "version_major": 2,
       "version_minor": 0
      },
      "text/plain": [
       "Figure(layout=FigureLayout(height='420px'))"
      ]
     },
     "metadata": {},
     "output_type": "display_data"
    }
   ],
   "source": [
    "# 1. Assign the locations to an array of latitude and longitude pairs.\n",
    "#locations = [latitude, longitude]\n",
    "locations = city_data_df[[\"Lat\", \"Lng\"]]\n",
    "# 2. Assign the weights variable to some values.\n",
    "#temperatures = # an array of length equal to the locations array length\n",
    "temperatures = city_data_df[\"Max Temp\"]\n",
    "# 3. Assign the figure variable to the gmaps.figure() attribute.\n",
    "fig = gmaps.figure()\n",
    "\n",
    "# 4. Assign the heatmap_layer variable to the heatmap_layer attribute and add in the locations.\n",
    "#heatmap_layer = gmaps.heatmap_layer(locations, weights=temperatures)\n",
    "#heat_layer = gmaps.heatmap_layer(locations, weights=max_temp) as the raw max_temp can have values <0 which are not accepted by google maps. so use the new temps list for weights\n",
    "##heat_layer = gmaps.heatmap_layer(locations, weights=temps)\n",
    "#Replace temps with our code for the list comprehension so our heat_layer code looks like the following:\n",
    "heat_layer = gmaps.heatmap_layer(locations, weights=[max(temp, 0) for temp in max_temp])\n",
    "# 5. Add the heatmap layer.\n",
    "fig.add_layer(heat_layer)\n",
    "# 6. Call the figure to plot the data.\n",
    "fig"
   ]
  },
  {
   "cell_type": "code",
   "execution_count": 13,
   "metadata": {},
   "outputs": [
    {
     "data": {
      "application/vnd.jupyter.widget-view+json": {
       "model_id": "9523f40d226441979f44a6468fc42d28",
       "version_major": 2,
       "version_minor": 0
      },
      "text/plain": [
       "Figure(layout=FigureLayout(height='420px'))"
      ]
     },
     "metadata": {},
     "output_type": "display_data"
    }
   ],
   "source": [
    "#First, add the geographic center of Earth in the form of latitude and longitude (30.0° N and 31.0° E). Also, add a zoom level so that only one map of Earth is shown.\n",
    "# 1. Assign the locations to an array of latitude and longitude pairs.\n",
    "#locations = [latitude, longitude]\n",
    "locations = city_data_df[[\"Lat\", \"Lng\"]]\n",
    "# 2. Assign the weights variable to some values.\n",
    "#temperatures = # an array of length equal to the locations array length\n",
    "temperatures = city_data_df[\"Max Temp\"]\n",
    "# 3. Assign the figure variable to the gmaps.figure() attribute.\n",
    "fig = gmaps.figure(center=(30.0, 31.0), zoom_level=1.5)\n",
    "\n",
    "# 4. Assign the heatmap_layer variable to the heatmap_layer attribute and add in the locations.\n",
    "#heatmap_layer = gmaps.heatmap_layer(locations, weights=temperatures)\n",
    "#heat_layer = gmaps.heatmap_layer(locations, weights=max_temp) as the raw max_temp can have values <0 which are not accepted by google maps. so use the new temps list for weights\n",
    "##heat_layer = gmaps.heatmap_layer(locations, weights=temps)\n",
    "#Replace temps with our code for the list comprehension so our heat_layer code looks like the following:\n",
    "#incease the size and intensity for better viewing\n",
    "\n",
    "heat_layer = gmaps.heatmap_layer(locations, weights=[max(temp, 0) for temp in max_temp], dissipating=False, max_intensity=300, point_radius=2)\n",
    "# 5. Add the heatmap layer.\n",
    "fig.add_layer(heat_layer)\n",
    "# 6. Call the figure to plot the data.\n",
    "fig"
   ]
  },
  {
   "cell_type": "code",
   "execution_count": 14,
   "metadata": {},
   "outputs": [
    {
     "data": {
      "application/vnd.jupyter.widget-view+json": {
       "model_id": "cb93eea9ca5e4e4396d08deb05337dce",
       "version_major": 2,
       "version_minor": 0
      },
      "text/plain": [
       "Figure(layout=FigureLayout(height='420px'))"
      ]
     },
     "metadata": {},
     "output_type": "display_data"
    }
   ],
   "source": [
    "# Heatmap of percent humidity\n",
    "locations = city_data_df[[\"Lat\", \"Lng\"]]\n",
    "humidity = city_data_df[\"Humidity\"]\n",
    "fig = gmaps.figure(center=(30.0, 31.0), zoom_level=1.5)\n",
    "heat_layer = gmaps.heatmap_layer(locations, weights=humidity, dissipating=False, max_intensity=300, point_radius=2)\n",
    "\n",
    "fig.add_layer(heat_layer)\n",
    "# Call the figure to plot the data.\n",
    "fig"
   ]
  },
  {
   "cell_type": "code",
   "execution_count": 16,
   "metadata": {},
   "outputs": [
    {
     "data": {
      "application/vnd.jupyter.widget-view+json": {
       "model_id": "ed3efd6201dd4929b23b48e5afb98681",
       "version_major": 2,
       "version_minor": 0
      },
      "text/plain": [
       "Figure(layout=FigureLayout(height='420px'))"
      ]
     },
     "metadata": {},
     "output_type": "display_data"
    }
   ],
   "source": [
    "# Heatmap of percent cloudiness\n",
    "locations = city_data_df[[\"Lat\", \"Lng\"]]\n",
    "clouds = city_data_df[\"Cloudiness\"]\n",
    "fig = gmaps.figure(center=(30.0, 31.0), zoom_level=1.5)\n",
    "heat_layer = gmaps.heatmap_layer(locations, weights=clouds, dissipating=False, max_intensity=300, point_radius=2)\n",
    "\n",
    "fig.add_layer(heat_layer)\n",
    "# Call the figure to plot the data.\n",
    "fig"
   ]
  },
  {
   "cell_type": "code",
   "execution_count": 18,
   "metadata": {},
   "outputs": [
    {
     "data": {
      "application/vnd.jupyter.widget-view+json": {
       "model_id": "efb86fe868dd446cac096be8bc92e5fb",
       "version_major": 2,
       "version_minor": 0
      },
      "text/plain": [
       "Figure(layout=FigureLayout(height='420px'))"
      ]
     },
     "metadata": {},
     "output_type": "display_data"
    }
   ],
   "source": [
    "# Heatmap of percent wind speed\n",
    "locations = city_data_df[[\"Lat\", \"Lng\"]]\n",
    "wspeed = city_data_df[\"Wind Speed\"]\n",
    "fig = gmaps.figure(center=(30.0, 31.0), zoom_level=1.5)\n",
    "heat_layer = gmaps.heatmap_layer(locations, weights=wspeed, dissipating=False, max_intensity=300, point_radius=4)\n",
    "\n",
    "fig.add_layer(heat_layer)\n",
    "# Call the figure to plot the data.\n",
    "fig"
   ]
  },
  {
   "cell_type": "code",
   "execution_count": 20,
   "metadata": {},
   "outputs": [
    {
     "name": "stdout",
     "output_type": "stream",
     "text": [
      "What is the minimum temperature in fahrenheit you would like for your trip? 75\n",
      "What is the maximum temperature in fahrenheit you would like for your trip? 90\n"
     ]
    }
   ],
   "source": [
    "# Ask the customer to add a minimum and maximum temperature value.\n",
    "min_temp = float(input(\"What is the minimum temperature in fahrenheit you would like for your trip? \"))\n",
    "max_temp = float(input(\"What is the maximum temperature in fahrenheit you would like for your trip? \"))"
   ]
  },
  {
   "cell_type": "code",
   "execution_count": 29,
   "metadata": {},
   "outputs": [
    {
     "data": {
      "text/html": [
       "<div>\n",
       "<style scoped>\n",
       "    .dataframe tbody tr th:only-of-type {\n",
       "        vertical-align: middle;\n",
       "    }\n",
       "\n",
       "    .dataframe tbody tr th {\n",
       "        vertical-align: top;\n",
       "    }\n",
       "\n",
       "    .dataframe thead th {\n",
       "        text-align: right;\n",
       "    }\n",
       "</style>\n",
       "<table border=\"1\" class=\"dataframe\">\n",
       "  <thead>\n",
       "    <tr style=\"text-align: right;\">\n",
       "      <th></th>\n",
       "      <th>City_ID</th>\n",
       "      <th>City</th>\n",
       "      <th>Country</th>\n",
       "      <th>Date</th>\n",
       "      <th>Lat</th>\n",
       "      <th>Lng</th>\n",
       "      <th>Max Temp</th>\n",
       "      <th>Humidity</th>\n",
       "      <th>Cloudiness</th>\n",
       "      <th>Wind Speed</th>\n",
       "    </tr>\n",
       "  </thead>\n",
       "  <tbody>\n",
       "    <tr>\n",
       "      <th>0</th>\n",
       "      <td>0</td>\n",
       "      <td>Rikitea</td>\n",
       "      <td>PF</td>\n",
       "      <td>2021-02-07 14:18:32</td>\n",
       "      <td>-23.1203</td>\n",
       "      <td>-134.9692</td>\n",
       "      <td>76.89</td>\n",
       "      <td>73</td>\n",
       "      <td>89</td>\n",
       "      <td>9.40</td>\n",
       "    </tr>\n",
       "    <tr>\n",
       "      <th>1</th>\n",
       "      <td>1</td>\n",
       "      <td>Kavieng</td>\n",
       "      <td>PG</td>\n",
       "      <td>2021-02-07 14:18:32</td>\n",
       "      <td>-2.5744</td>\n",
       "      <td>150.7967</td>\n",
       "      <td>83.10</td>\n",
       "      <td>76</td>\n",
       "      <td>28</td>\n",
       "      <td>9.84</td>\n",
       "    </tr>\n",
       "    <tr>\n",
       "      <th>3</th>\n",
       "      <td>3</td>\n",
       "      <td>Salalah</td>\n",
       "      <td>OM</td>\n",
       "      <td>2021-02-07 14:18:32</td>\n",
       "      <td>17.0151</td>\n",
       "      <td>54.0924</td>\n",
       "      <td>77.00</td>\n",
       "      <td>65</td>\n",
       "      <td>75</td>\n",
       "      <td>8.05</td>\n",
       "    </tr>\n",
       "    <tr>\n",
       "      <th>5</th>\n",
       "      <td>5</td>\n",
       "      <td>Kieta</td>\n",
       "      <td>PG</td>\n",
       "      <td>2021-02-07 14:18:32</td>\n",
       "      <td>-6.2167</td>\n",
       "      <td>155.6333</td>\n",
       "      <td>79.57</td>\n",
       "      <td>82</td>\n",
       "      <td>100</td>\n",
       "      <td>4.76</td>\n",
       "    </tr>\n",
       "    <tr>\n",
       "      <th>6</th>\n",
       "      <td>6</td>\n",
       "      <td>Buala</td>\n",
       "      <td>SB</td>\n",
       "      <td>2021-02-07 14:18:33</td>\n",
       "      <td>-8.1450</td>\n",
       "      <td>159.5921</td>\n",
       "      <td>78.66</td>\n",
       "      <td>82</td>\n",
       "      <td>100</td>\n",
       "      <td>3.02</td>\n",
       "    </tr>\n",
       "    <tr>\n",
       "      <th>9</th>\n",
       "      <td>9</td>\n",
       "      <td>Carnarvon</td>\n",
       "      <td>AU</td>\n",
       "      <td>2021-02-07 14:18:33</td>\n",
       "      <td>-24.8667</td>\n",
       "      <td>113.6333</td>\n",
       "      <td>80.60</td>\n",
       "      <td>100</td>\n",
       "      <td>40</td>\n",
       "      <td>13.80</td>\n",
       "    </tr>\n",
       "    <tr>\n",
       "      <th>12</th>\n",
       "      <td>12</td>\n",
       "      <td>Emerald</td>\n",
       "      <td>AU</td>\n",
       "      <td>2021-02-07 14:18:33</td>\n",
       "      <td>-23.5333</td>\n",
       "      <td>148.1667</td>\n",
       "      <td>81.00</td>\n",
       "      <td>83</td>\n",
       "      <td>75</td>\n",
       "      <td>6.91</td>\n",
       "    </tr>\n",
       "    <tr>\n",
       "      <th>14</th>\n",
       "      <td>14</td>\n",
       "      <td>Tarrafal</td>\n",
       "      <td>CV</td>\n",
       "      <td>2021-02-07 14:18:34</td>\n",
       "      <td>15.2833</td>\n",
       "      <td>-23.7667</td>\n",
       "      <td>75.20</td>\n",
       "      <td>50</td>\n",
       "      <td>40</td>\n",
       "      <td>25.32</td>\n",
       "    </tr>\n",
       "    <tr>\n",
       "      <th>23</th>\n",
       "      <td>23</td>\n",
       "      <td>Bataipora</td>\n",
       "      <td>BR</td>\n",
       "      <td>2021-02-07 14:18:35</td>\n",
       "      <td>-22.2953</td>\n",
       "      <td>-53.2711</td>\n",
       "      <td>77.14</td>\n",
       "      <td>69</td>\n",
       "      <td>0</td>\n",
       "      <td>5.44</td>\n",
       "    </tr>\n",
       "    <tr>\n",
       "      <th>24</th>\n",
       "      <td>24</td>\n",
       "      <td>San Isidro</td>\n",
       "      <td>PE</td>\n",
       "      <td>2021-02-07 14:18:35</td>\n",
       "      <td>-12.1167</td>\n",
       "      <td>-77.0500</td>\n",
       "      <td>77.00</td>\n",
       "      <td>78</td>\n",
       "      <td>75</td>\n",
       "      <td>6.91</td>\n",
       "    </tr>\n",
       "  </tbody>\n",
       "</table>\n",
       "</div>"
      ],
      "text/plain": [
       "    City_ID        City Country                 Date      Lat       Lng  \\\n",
       "0         0     Rikitea      PF  2021-02-07 14:18:32 -23.1203 -134.9692   \n",
       "1         1     Kavieng      PG  2021-02-07 14:18:32  -2.5744  150.7967   \n",
       "3         3     Salalah      OM  2021-02-07 14:18:32  17.0151   54.0924   \n",
       "5         5       Kieta      PG  2021-02-07 14:18:32  -6.2167  155.6333   \n",
       "6         6       Buala      SB  2021-02-07 14:18:33  -8.1450  159.5921   \n",
       "9         9   Carnarvon      AU  2021-02-07 14:18:33 -24.8667  113.6333   \n",
       "12       12     Emerald      AU  2021-02-07 14:18:33 -23.5333  148.1667   \n",
       "14       14    Tarrafal      CV  2021-02-07 14:18:34  15.2833  -23.7667   \n",
       "23       23   Bataipora      BR  2021-02-07 14:18:35 -22.2953  -53.2711   \n",
       "24       24  San Isidro      PE  2021-02-07 14:18:35 -12.1167  -77.0500   \n",
       "\n",
       "    Max Temp  Humidity  Cloudiness  Wind Speed  \n",
       "0      76.89        73          89        9.40  \n",
       "1      83.10        76          28        9.84  \n",
       "3      77.00        65          75        8.05  \n",
       "5      79.57        82         100        4.76  \n",
       "6      78.66        82         100        3.02  \n",
       "9      80.60       100          40       13.80  \n",
       "12     81.00        83          75        6.91  \n",
       "14     75.20        50          40       25.32  \n",
       "23     77.14        69           0        5.44  \n",
       "24     77.00        78          75        6.91  "
      ]
     },
     "execution_count": 29,
     "metadata": {},
     "output_type": "execute_result"
    }
   ],
   "source": [
    "# Filter the dataset to find the cities that fit the criteria.\n",
    "preferred_cities_df = city_data_df.loc[(city_data_df[\"Max Temp\"] <= max_temp) & \\\n",
    "                                       (city_data_df[\"Max Temp\"] >= min_temp)]\n",
    "preferred_cities_df= preferred_cities_df.dropna()\n",
    "preferred_cities_df.head(10)"
   ]
  },
  {
   "cell_type": "code",
   "execution_count": 30,
   "metadata": {},
   "outputs": [
    {
     "data": {
      "text/plain": [
       "City_ID       185\n",
       "City          185\n",
       "Country       185\n",
       "Date          185\n",
       "Lat           185\n",
       "Lng           185\n",
       "Max Temp      185\n",
       "Humidity      185\n",
       "Cloudiness    185\n",
       "Wind Speed    185\n",
       "dtype: int64"
      ]
     },
     "execution_count": 30,
     "metadata": {},
     "output_type": "execute_result"
    }
   ],
   "source": [
    "#preferred_cities_df.count()"
   ]
  },
  {
   "cell_type": "code",
   "execution_count": 31,
   "metadata": {},
   "outputs": [
    {
     "data": {
      "text/plain": [
       "City_ID       185\n",
       "City          185\n",
       "Country       185\n",
       "Date          185\n",
       "Lat           185\n",
       "Lng           185\n",
       "Max Temp      185\n",
       "Humidity      185\n",
       "Cloudiness    185\n",
       "Wind Speed    185\n",
       "dtype: int64"
      ]
     },
     "execution_count": 31,
     "metadata": {},
     "output_type": "execute_result"
    }
   ],
   "source": [
    "#preferred_cities_df.notnull().sum()"
   ]
  },
  {
   "cell_type": "code",
   "execution_count": 32,
   "metadata": {},
   "outputs": [
    {
     "data": {
      "text/plain": [
       "City_ID       0\n",
       "City          0\n",
       "Country       0\n",
       "Date          0\n",
       "Lat           0\n",
       "Lng           0\n",
       "Max Temp      0\n",
       "Humidity      0\n",
       "Cloudiness    0\n",
       "Wind Speed    0\n",
       "dtype: int64"
      ]
     },
     "execution_count": 32,
     "metadata": {},
     "output_type": "execute_result"
    }
   ],
   "source": [
    "#preferred_cities_df.isnull().sum()"
   ]
  },
  {
   "cell_type": "code",
   "execution_count": 33,
   "metadata": {},
   "outputs": [
    {
     "data": {
      "text/html": [
       "<div>\n",
       "<style scoped>\n",
       "    .dataframe tbody tr th:only-of-type {\n",
       "        vertical-align: middle;\n",
       "    }\n",
       "\n",
       "    .dataframe tbody tr th {\n",
       "        vertical-align: top;\n",
       "    }\n",
       "\n",
       "    .dataframe thead th {\n",
       "        text-align: right;\n",
       "    }\n",
       "</style>\n",
       "<table border=\"1\" class=\"dataframe\">\n",
       "  <thead>\n",
       "    <tr style=\"text-align: right;\">\n",
       "      <th></th>\n",
       "      <th>City</th>\n",
       "      <th>Country</th>\n",
       "      <th>Max Temp</th>\n",
       "      <th>Lat</th>\n",
       "      <th>Lng</th>\n",
       "      <th>Hotel Name</th>\n",
       "    </tr>\n",
       "  </thead>\n",
       "  <tbody>\n",
       "    <tr>\n",
       "      <th>0</th>\n",
       "      <td>Rikitea</td>\n",
       "      <td>PF</td>\n",
       "      <td>76.89</td>\n",
       "      <td>-23.1203</td>\n",
       "      <td>-134.9692</td>\n",
       "      <td></td>\n",
       "    </tr>\n",
       "    <tr>\n",
       "      <th>1</th>\n",
       "      <td>Kavieng</td>\n",
       "      <td>PG</td>\n",
       "      <td>83.10</td>\n",
       "      <td>-2.5744</td>\n",
       "      <td>150.7967</td>\n",
       "      <td></td>\n",
       "    </tr>\n",
       "    <tr>\n",
       "      <th>3</th>\n",
       "      <td>Salalah</td>\n",
       "      <td>OM</td>\n",
       "      <td>77.00</td>\n",
       "      <td>17.0151</td>\n",
       "      <td>54.0924</td>\n",
       "      <td></td>\n",
       "    </tr>\n",
       "    <tr>\n",
       "      <th>5</th>\n",
       "      <td>Kieta</td>\n",
       "      <td>PG</td>\n",
       "      <td>79.57</td>\n",
       "      <td>-6.2167</td>\n",
       "      <td>155.6333</td>\n",
       "      <td></td>\n",
       "    </tr>\n",
       "    <tr>\n",
       "      <th>6</th>\n",
       "      <td>Buala</td>\n",
       "      <td>SB</td>\n",
       "      <td>78.66</td>\n",
       "      <td>-8.1450</td>\n",
       "      <td>159.5921</td>\n",
       "      <td></td>\n",
       "    </tr>\n",
       "    <tr>\n",
       "      <th>9</th>\n",
       "      <td>Carnarvon</td>\n",
       "      <td>AU</td>\n",
       "      <td>80.60</td>\n",
       "      <td>-24.8667</td>\n",
       "      <td>113.6333</td>\n",
       "      <td></td>\n",
       "    </tr>\n",
       "    <tr>\n",
       "      <th>12</th>\n",
       "      <td>Emerald</td>\n",
       "      <td>AU</td>\n",
       "      <td>81.00</td>\n",
       "      <td>-23.5333</td>\n",
       "      <td>148.1667</td>\n",
       "      <td></td>\n",
       "    </tr>\n",
       "    <tr>\n",
       "      <th>14</th>\n",
       "      <td>Tarrafal</td>\n",
       "      <td>CV</td>\n",
       "      <td>75.20</td>\n",
       "      <td>15.2833</td>\n",
       "      <td>-23.7667</td>\n",
       "      <td></td>\n",
       "    </tr>\n",
       "    <tr>\n",
       "      <th>23</th>\n",
       "      <td>Bataipora</td>\n",
       "      <td>BR</td>\n",
       "      <td>77.14</td>\n",
       "      <td>-22.2953</td>\n",
       "      <td>-53.2711</td>\n",
       "      <td></td>\n",
       "    </tr>\n",
       "    <tr>\n",
       "      <th>24</th>\n",
       "      <td>San Isidro</td>\n",
       "      <td>PE</td>\n",
       "      <td>77.00</td>\n",
       "      <td>-12.1167</td>\n",
       "      <td>-77.0500</td>\n",
       "      <td></td>\n",
       "    </tr>\n",
       "  </tbody>\n",
       "</table>\n",
       "</div>"
      ],
      "text/plain": [
       "          City Country  Max Temp      Lat       Lng Hotel Name\n",
       "0      Rikitea      PF     76.89 -23.1203 -134.9692           \n",
       "1      Kavieng      PG     83.10  -2.5744  150.7967           \n",
       "3      Salalah      OM     77.00  17.0151   54.0924           \n",
       "5        Kieta      PG     79.57  -6.2167  155.6333           \n",
       "6        Buala      SB     78.66  -8.1450  159.5921           \n",
       "9    Carnarvon      AU     80.60 -24.8667  113.6333           \n",
       "12     Emerald      AU     81.00 -23.5333  148.1667           \n",
       "14    Tarrafal      CV     75.20  15.2833  -23.7667           \n",
       "23   Bataipora      BR     77.14 -22.2953  -53.2711           \n",
       "24  San Isidro      PE     77.00 -12.1167  -77.0500           "
      ]
     },
     "execution_count": 33,
     "metadata": {},
     "output_type": "execute_result"
    }
   ],
   "source": [
    "# Create DataFrame called hotel_df to store hotel names along with city, country, max temp, and coordinates.\n",
    "hotel_df = preferred_cities_df[[\"City\", \"Country\", \"Max Temp\", \"Lat\", \"Lng\"]].copy()\n",
    "hotel_df[\"Hotel Name\"] = \"\"\n",
    "hotel_df.head(10)"
   ]
  },
  {
   "cell_type": "code",
   "execution_count": 34,
   "metadata": {},
   "outputs": [
    {
     "name": "stdout",
     "output_type": "stream",
     "text": [
      "Hotel not found... skipping.\n",
      "Hotel not found... skipping.\n",
      "Hotel not found... skipping.\n",
      "Hotel not found... skipping.\n",
      "Hotel not found... skipping.\n",
      "Hotel not found... skipping.\n",
      "Hotel not found... skipping.\n",
      "Hotel not found... skipping.\n",
      "Hotel not found... skipping.\n",
      "Hotel not found... skipping.\n",
      "Hotel not found... skipping.\n",
      "Hotel not found... skipping.\n",
      "Hotel not found... skipping.\n",
      "Hotel not found... skipping.\n",
      "Hotel not found... skipping.\n",
      "Hotel not found... skipping.\n",
      "Hotel not found... skipping.\n",
      "Hotel not found... skipping.\n"
     ]
    }
   ],
   "source": [
    "# Set parameters to search for a hotel.\n",
    "params = {\n",
    "    \"radius\": 5000,\n",
    "    \"type\": \"lodging\",\n",
    "    \"key\": g_key\n",
    "}\n",
    "# Iterate through the DataFrame.\n",
    "for index, row in hotel_df.iterrows():\n",
    "    # Get the latitude and longitude.\n",
    "    lat = row[\"Lat\"]\n",
    "    lng = row[\"Lng\"]\n",
    "\n",
    "    # Add the latitude and longitude to location key for the params dictionary.\n",
    "    params[\"location\"] = f\"{lat},{lng}\"\n",
    "\n",
    "    # Use the search term: \"lodging\" and our latitude and longitude.\n",
    "    base_url = \"https://maps.googleapis.com/maps/api/place/nearbysearch/json\"\n",
    "    # Make request and get the JSON data from the search.\n",
    "    hotels = requests.get(base_url, params=params).json()\n",
    "    # Grab the first hotel from the results and store the name.\n",
    "    try:\n",
    "        hotel_df.loc[index, \"Hotel Name\"] = hotels[\"results\"][0][\"name\"]\n",
    "    except (IndexError):\n",
    "        print(\"Hotel not found... skipping.\")"
   ]
  },
  {
   "cell_type": "code",
   "execution_count": 36,
   "metadata": {},
   "outputs": [
    {
     "data": {
      "application/vnd.jupyter.widget-view+json": {
       "model_id": "14b1dc773c2b4d50987cce87fddc1d2d",
       "version_major": 2,
       "version_minor": 0
      },
      "text/plain": [
       "Figure(layout=FigureLayout(height='420px'))"
      ]
     },
     "metadata": {},
     "output_type": "display_data"
    }
   ],
   "source": [
    "# Add a heatmap of temperature for the vacation spots.\n",
    "locations = hotel_df[[\"Lat\", \"Lng\"]]\n",
    "max_temp = hotel_df[\"Max Temp\"]\n",
    "fig = gmaps.figure(center=(30.0, 31.0), zoom_level=1.5)\n",
    "heat_layer = gmaps.heatmap_layer(locations, weights=max_temp, dissipating=False,\n",
    "             max_intensity=300, point_radius=4)\n",
    "#If we refer to the gmaps documentation on how to add markers (Links to an external site.), \n",
    "#the syntax is markers = gmaps.marker_layer(marker_locations), \n",
    "#where the marker_locations are latitudes and longitudes.\n",
    "marker_layer = gmaps.marker_layer(locations)\n",
    "fig.add_layer(heat_layer)\n",
    "fig.add_layer(marker_layer)\n",
    "# Call the figure to plot the data.\n",
    "fig"
   ]
  },
  {
   "cell_type": "code",
   "execution_count": 37,
   "metadata": {},
   "outputs": [],
   "source": [
    "info_box_template = \"\"\"\n",
    "<dl>\n",
    "<dt>Hotel Name</dt><dd>{Hotel Name}</dd>\n",
    "<dt>City</dt><dd>{City}</dd>\n",
    "<dt>Country</dt><dd>{Country}</dd>\n",
    "<dt>Max Temp</dt><dd>{Max Temp} °F</dd>\n",
    "</dl>\n",
    "\"\"\""
   ]
  },
  {
   "cell_type": "code",
   "execution_count": 39,
   "metadata": {},
   "outputs": [
    {
     "data": {
      "text/plain": [
       "[\"\\n<dl>\\n<dt>Hotel Name</dt><dd>Pension Maro'i</dd>\\n<dt>City</dt><dd>Rikitea</dd>\\n<dt>Country</dt><dd>PF</dd>\\n<dt>Max Temp</dt><dd>76.89 °F</dd>\\n</dl>\\n\",\n",
       " '\\n<dl>\\n<dt>Hotel Name</dt><dd>Nusa Island Retreat</dd>\\n<dt>City</dt><dd>Kavieng</dd>\\n<dt>Country</dt><dd>PG</dd>\\n<dt>Max Temp</dt><dd>83.1 °F</dd>\\n</dl>\\n',\n",
       " '\\n<dl>\\n<dt>Hotel Name</dt><dd>HAMDAN PLAZA HOTEL SALALAH</dd>\\n<dt>City</dt><dd>Salalah</dd>\\n<dt>Country</dt><dd>OM</dd>\\n<dt>Max Temp</dt><dd>77.0 °F</dd>\\n</dl>\\n',\n",
       " '\\n<dl>\\n<dt>Hotel Name</dt><dd></dd>\\n<dt>City</dt><dd>Kieta</dd>\\n<dt>Country</dt><dd>PG</dd>\\n<dt>Max Temp</dt><dd>79.57 °F</dd>\\n</dl>\\n',\n",
       " '\\n<dl>\\n<dt>Hotel Name</dt><dd>Maringe Lagoon Lodge</dd>\\n<dt>City</dt><dd>Buala</dd>\\n<dt>Country</dt><dd>SB</dd>\\n<dt>Max Temp</dt><dd>78.66 °F</dd>\\n</dl>\\n',\n",
       " '\\n<dl>\\n<dt>Hotel Name</dt><dd>Hospitality Carnarvon</dd>\\n<dt>City</dt><dd>Carnarvon</dd>\\n<dt>Country</dt><dd>AU</dd>\\n<dt>Max Temp</dt><dd>80.6 °F</dd>\\n</dl>\\n',\n",
       " '\\n<dl>\\n<dt>Hotel Name</dt><dd>The Irish Village</dd>\\n<dt>City</dt><dd>Emerald</dd>\\n<dt>Country</dt><dd>AU</dd>\\n<dt>Max Temp</dt><dd>81.0 °F</dd>\\n</dl>\\n',\n",
       " '\\n<dl>\\n<dt>Hotel Name</dt><dd>Hotel Ixola</dd>\\n<dt>City</dt><dd>Tarrafal</dd>\\n<dt>Country</dt><dd>CV</dd>\\n<dt>Max Temp</dt><dd>75.2 °F</dd>\\n</dl>\\n',\n",
       " '\\n<dl>\\n<dt>Hotel Name</dt><dd>Hotel Vale do Ivinhema</dd>\\n<dt>City</dt><dd>Bataipora</dd>\\n<dt>Country</dt><dd>BR</dd>\\n<dt>Max Temp</dt><dd>77.14 °F</dd>\\n</dl>\\n',\n",
       " '\\n<dl>\\n<dt>Hotel Name</dt><dd>Radisson Hotel Decapolis Miraflores</dd>\\n<dt>City</dt><dd>San Isidro</dd>\\n<dt>Country</dt><dd>PE</dd>\\n<dt>Max Temp</dt><dd>77.0 °F</dd>\\n</dl>\\n',\n",
       " '\\n<dl>\\n<dt>Hotel Name</dt><dd>Isles Sunset Lodge</dd>\\n<dt>City</dt><dd>Butaritari</dd>\\n<dt>Country</dt><dd>KI</dd>\\n<dt>Max Temp</dt><dd>80.91 °F</dd>\\n</dl>\\n',\n",
       " '\\n<dl>\\n<dt>Hotel Name</dt><dd>Keleti Beach Resort</dd>\\n<dt>City</dt><dd>Vaini</dd>\\n<dt>Country</dt><dd>TO</dd>\\n<dt>Max Temp</dt><dd>77.0 °F</dd>\\n</dl>\\n',\n",
       " '\\n<dl>\\n<dt>Hotel Name</dt><dd>Hotel Chik Chik Namibe</dd>\\n<dt>City</dt><dd>Namibe</dd>\\n<dt>Country</dt><dd>AO</dd>\\n<dt>Max Temp</dt><dd>82.4 °F</dd>\\n</dl>\\n',\n",
       " '\\n<dl>\\n<dt>Hotel Name</dt><dd>pulpo</dd>\\n<dt>City</dt><dd>Sabancuy</dd>\\n<dt>Country</dt><dd>MX</dd>\\n<dt>Max Temp</dt><dd>75.51 °F</dd>\\n</dl>\\n',\n",
       " '\\n<dl>\\n<dt>Hotel Name</dt><dd>Hotel Mpampa</dd>\\n<dt>City</dt><dd>Soyo</dd>\\n<dt>Country</dt><dd>AO</dd>\\n<dt>Max Temp</dt><dd>87.8 °F</dd>\\n</dl>\\n',\n",
       " '\\n<dl>\\n<dt>Hotel Name</dt><dd>Hotel Flamingo</dd>\\n<dt>City</dt><dd>Quelimane</dd>\\n<dt>Country</dt><dd>MZ</dd>\\n<dt>Max Temp</dt><dd>89.6 °F</dd>\\n</dl>\\n',\n",
       " '\\n<dl>\\n<dt>Hotel Name</dt><dd>Hotel Gualok</dd>\\n<dt>City</dt><dd>Presidencia Roque Saenz Pena</dd>\\n<dt>Country</dt><dd>AR</dd>\\n<dt>Max Temp</dt><dd>82.99 °F</dd>\\n</dl>\\n',\n",
       " '\\n<dl>\\n<dt>Hotel Name</dt><dd>Linareva Moorea Beach Resort</dd>\\n<dt>City</dt><dd>Haapiti</dd>\\n<dt>Country</dt><dd>PF</dd>\\n<dt>Max Temp</dt><dd>75.2 °F</dd>\\n</dl>\\n',\n",
       " '\\n<dl>\\n<dt>Hotel Name</dt><dd>Hotel Pousada Nossa Senhora do Carmo</dd>\\n<dt>City</dt><dd>Iguape</dd>\\n<dt>Country</dt><dd>BR</dd>\\n<dt>Max Temp</dt><dd>79.05 °F</dd>\\n</dl>\\n',\n",
       " '\\n<dl>\\n<dt>Hotel Name</dt><dd>Les Vagues bleues</dd>\\n<dt>City</dt><dd>Kribi</dd>\\n<dt>Country</dt><dd>CM</dd>\\n<dt>Max Temp</dt><dd>85.21 °F</dd>\\n</dl>\\n',\n",
       " '\\n<dl>\\n<dt>Hotel Name</dt><dd>Scoop Guest House</dd>\\n<dt>City</dt><dd>Hithadhoo</dd>\\n<dt>Country</dt><dd>MV</dd>\\n<dt>Max Temp</dt><dd>82.29 °F</dd>\\n</dl>\\n',\n",
       " '\\n<dl>\\n<dt>Hotel Name</dt><dd>Grage Hotel Bengkulu</dd>\\n<dt>City</dt><dd>Bengkulu</dd>\\n<dt>Country</dt><dd>ID</dd>\\n<dt>Max Temp</dt><dd>79.09 °F</dd>\\n</dl>\\n',\n",
       " '\\n<dl>\\n<dt>Hotel Name</dt><dd></dd>\\n<dt>City</dt><dd>Kasongo-Lunda</dd>\\n<dt>Country</dt><dd>CD</dd>\\n<dt>Max Temp</dt><dd>89.28 °F</dd>\\n</dl>\\n',\n",
       " '\\n<dl>\\n<dt>Hotel Name</dt><dd>Lorengau Harbourside Hotel</dd>\\n<dt>City</dt><dd>Lorengau</dd>\\n<dt>Country</dt><dd>PG</dd>\\n<dt>Max Temp</dt><dd>82.0 °F</dd>\\n</dl>\\n',\n",
       " '\\n<dl>\\n<dt>Hotel Name</dt><dd>Volcano Sea View Tree House</dd>\\n<dt>City</dt><dd>Isangel</dd>\\n<dt>Country</dt><dd>VU</dd>\\n<dt>Max Temp</dt><dd>77.79 °F</dd>\\n</dl>\\n',\n",
       " '\\n<dl>\\n<dt>Hotel Name</dt><dd>Hotel Du Lac</dd>\\n<dt>City</dt><dd>Inongo</dd>\\n<dt>Country</dt><dd>CD</dd>\\n<dt>Max Temp</dt><dd>82.53 °F</dd>\\n</dl>\\n',\n",
       " '\\n<dl>\\n<dt>Hotel Name</dt><dd>Hostal Río Dagua</dd>\\n<dt>City</dt><dd>Dagua</dd>\\n<dt>Country</dt><dd>CO</dd>\\n<dt>Max Temp</dt><dd>78.8 °F</dd>\\n</dl>\\n',\n",
       " '\\n<dl>\\n<dt>Hotel Name</dt><dd>The Nesbitt Arms</dd>\\n<dt>City</dt><dd>Chiredzi</dd>\\n<dt>Country</dt><dd>ZW</dd>\\n<dt>Max Temp</dt><dd>86.99 °F</dd>\\n</dl>\\n',\n",
       " '\\n<dl>\\n<dt>Hotel Name</dt><dd>OYO 884 Rumoh PMI Hotel</dd>\\n<dt>City</dt><dd>Banda Aceh</dd>\\n<dt>Country</dt><dd>ID</dd>\\n<dt>Max Temp</dt><dd>80.28 °F</dd>\\n</dl>\\n',\n",
       " '\\n<dl>\\n<dt>Hotel Name</dt><dd></dd>\\n<dt>City</dt><dd>Awjilah</dd>\\n<dt>Country</dt><dd>LY</dd>\\n<dt>Max Temp</dt><dd>80.37 °F</dd>\\n</dl>\\n',\n",
       " '\\n<dl>\\n<dt>Hotel Name</dt><dd>Hotels in Lakshadweep Islands</dd>\\n<dt>City</dt><dd>Kavaratti</dd>\\n<dt>Country</dt><dd>IN</dd>\\n<dt>Max Temp</dt><dd>81.7 °F</dd>\\n</dl>\\n',\n",
       " '\\n<dl>\\n<dt>Hotel Name</dt><dd>Pousada 100 Passos</dd>\\n<dt>City</dt><dd>Tamandare</dd>\\n<dt>Country</dt><dd>BR</dd>\\n<dt>Max Temp</dt><dd>85.14 °F</dd>\\n</dl>\\n',\n",
       " '\\n<dl>\\n<dt>Hotel Name</dt><dd>Ganesh Defence Academy chodavadaram hostel</dd>\\n<dt>City</dt><dd>Chodavaram</dd>\\n<dt>Country</dt><dd>IN</dd>\\n<dt>Max Temp</dt><dd>75.2 °F</dd>\\n</dl>\\n',\n",
       " '\\n<dl>\\n<dt>Hotel Name</dt><dd>Melrose</dd>\\n<dt>City</dt><dd>Sambava</dd>\\n<dt>Country</dt><dd>MG</dd>\\n<dt>Max Temp</dt><dd>83.52 °F</dd>\\n</dl>\\n',\n",
       " '\\n<dl>\\n<dt>Hotel Name</dt><dd>Pine Tree Motel</dd>\\n<dt>City</dt><dd>Katherine</dd>\\n<dt>Country</dt><dd>AU</dd>\\n<dt>Max Temp</dt><dd>75.2 °F</dd>\\n</dl>\\n',\n",
       " '\\n<dl>\\n<dt>Hotel Name</dt><dd>Penginapan Kim</dd>\\n<dt>City</dt><dd>Biak</dd>\\n<dt>Country</dt><dd>ID</dd>\\n<dt>Max Temp</dt><dd>77.77 °F</dd>\\n</dl>\\n',\n",
       " '\\n<dl>\\n<dt>Hotel Name</dt><dd></dd>\\n<dt>City</dt><dd>Umm Kaddadah</dd>\\n<dt>Country</dt><dd>SD</dd>\\n<dt>Max Temp</dt><dd>83.28 °F</dd>\\n</dl>\\n',\n",
       " '\\n<dl>\\n<dt>Hotel Name</dt><dd></dd>\\n<dt>City</dt><dd>Beloha</dd>\\n<dt>Country</dt><dd>MG</dd>\\n<dt>Max Temp</dt><dd>84.9 °F</dd>\\n</dl>\\n',\n",
       " '\\n<dl>\\n<dt>Hotel Name</dt><dd>Villa Enata</dd>\\n<dt>City</dt><dd>Atuona</dd>\\n<dt>Country</dt><dd>PF</dd>\\n<dt>Max Temp</dt><dd>78.87 °F</dd>\\n</dl>\\n',\n",
       " '\\n<dl>\\n<dt>Hotel Name</dt><dd>Paradise Inn</dd>\\n<dt>City</dt><dd>Avarua</dd>\\n<dt>Country</dt><dd>CK</dd>\\n<dt>Max Temp</dt><dd>77.0 °F</dd>\\n</dl>\\n',\n",
       " '\\n<dl>\\n<dt>Hotel Name</dt><dd>ibis Styles Mt Isa Verona</dd>\\n<dt>City</dt><dd>Mount Isa</dd>\\n<dt>Country</dt><dd>AU</dd>\\n<dt>Max Temp</dt><dd>78.8 °F</dd>\\n</dl>\\n',\n",
       " '\\n<dl>\\n<dt>Hotel Name</dt><dd>Complexo da Familia</dd>\\n<dt>City</dt><dd>Xai-Xai</dd>\\n<dt>Country</dt><dd>MZ</dd>\\n<dt>Max Temp</dt><dd>83.41 °F</dd>\\n</dl>\\n',\n",
       " '\\n<dl>\\n<dt>Hotel Name</dt><dd>hotêl doufoulougou</dd>\\n<dt>City</dt><dd>Tabou</dd>\\n<dt>Country</dt><dd>CI</dd>\\n<dt>Max Temp</dt><dd>83.89 °F</dd>\\n</dl>\\n',\n",
       " '\\n<dl>\\n<dt>Hotel Name</dt><dd>Castillo Galapagos</dd>\\n<dt>City</dt><dd>Puerto Ayora</dd>\\n<dt>Country</dt><dd>EC</dd>\\n<dt>Max Temp</dt><dd>80.6 °F</dd>\\n</dl>\\n',\n",
       " '\\n<dl>\\n<dt>Hotel Name</dt><dd></dd>\\n<dt>City</dt><dd>Angoram</dd>\\n<dt>Country</dt><dd>PG</dd>\\n<dt>Max Temp</dt><dd>75.34 °F</dd>\\n</dl>\\n',\n",
       " '\\n<dl>\\n<dt>Hotel Name</dt><dd>JM Lodge</dd>\\n<dt>City</dt><dd>San Policarpo</dd>\\n<dt>Country</dt><dd>PH</dd>\\n<dt>Max Temp</dt><dd>80.56 °F</dd>\\n</dl>\\n',\n",
       " '\\n<dl>\\n<dt>Hotel Name</dt><dd>Taloa Heights</dd>\\n<dt>City</dt><dd>Alofi</dd>\\n<dt>Country</dt><dd>NU</dd>\\n<dt>Max Temp</dt><dd>77.0 °F</dd>\\n</dl>\\n',\n",
       " '\\n<dl>\\n<dt>Hotel Name</dt><dd>Pondok Wisata Elim</dd>\\n<dt>City</dt><dd>Waingapu</dd>\\n<dt>Country</dt><dd>ID</dd>\\n<dt>Max Temp</dt><dd>79.02 °F</dd>\\n</dl>\\n',\n",
       " '\\n<dl>\\n<dt>Hotel Name</dt><dd>Udaya Boys Hostel</dd>\\n<dt>City</dt><dd>Manavalakurichi</dd>\\n<dt>Country</dt><dd>IN</dd>\\n<dt>Max Temp</dt><dd>86.0 °F</dd>\\n</dl>\\n',\n",
       " '\\n<dl>\\n<dt>Hotel Name</dt><dd>INN NEW HORIZON</dd>\\n<dt>City</dt><dd>Touros</dd>\\n<dt>Country</dt><dd>BR</dd>\\n<dt>Max Temp</dt><dd>87.8 °F</dd>\\n</dl>\\n',\n",
       " '\\n<dl>\\n<dt>Hotel Name</dt><dd>Tu Casa</dd>\\n<dt>City</dt><dd>East London</dd>\\n<dt>Country</dt><dd>ZA</dd>\\n<dt>Max Temp</dt><dd>75.2 °F</dd>\\n</dl>\\n',\n",
       " \"\\n<dl>\\n<dt>Hotel Name</dt><dd>JB's Collection & Mangrove Place</dd>\\n<dt>City</dt><dd>Bilwang</dd>\\n<dt>Country</dt><dd>PH</dd>\\n<dt>Max Temp</dt><dd>79.95 °F</dd>\\n</dl>\\n\",\n",
       " '\\n<dl>\\n<dt>Hotel Name</dt><dd></dd>\\n<dt>City</dt><dd>Adre</dd>\\n<dt>Country</dt><dd>TD</dd>\\n<dt>Max Temp</dt><dd>87.57 °F</dd>\\n</dl>\\n',\n",
       " '\\n<dl>\\n<dt>Hotel Name</dt><dd>Heritage Park Hotel</dd>\\n<dt>City</dt><dd>Honiara</dd>\\n<dt>Country</dt><dd>SB</dd>\\n<dt>Max Temp</dt><dd>78.28 °F</dd>\\n</dl>\\n',\n",
       " '\\n<dl>\\n<dt>Hotel Name</dt><dd>สวนหนิง-อัศ</dd>\\n<dt>City</dt><dd>Trat</dd>\\n<dt>Country</dt><dd>TH</dd>\\n<dt>Max Temp</dt><dd>75.2 °F</dd>\\n</dl>\\n',\n",
       " '\\n<dl>\\n<dt>Hotel Name</dt><dd></dd>\\n<dt>City</dt><dd>Katete</dd>\\n<dt>Country</dt><dd>UG</dd>\\n<dt>Max Temp</dt><dd>85.6 °F</dd>\\n</dl>\\n',\n",
       " '\\n<dl>\\n<dt>Hotel Name</dt><dd>Osprey Beach Hotel</dd>\\n<dt>City</dt><dd>Cockburn Town</dd>\\n<dt>Country</dt><dd>TC</dd>\\n<dt>Max Temp</dt><dd>77.83 °F</dd>\\n</dl>\\n',\n",
       " '\\n<dl>\\n<dt>Hotel Name</dt><dd>Gîte kajeon</dd>\\n<dt>City</dt><dd>Poum</dd>\\n<dt>Country</dt><dd>NC</dd>\\n<dt>Max Temp</dt><dd>79.93 °F</dd>\\n</dl>\\n',\n",
       " '\\n<dl>\\n<dt>Hotel Name</dt><dd>Hotel Morotin</dd>\\n<dt>City</dt><dd>Santa Maria</dd>\\n<dt>Country</dt><dd>BR</dd>\\n<dt>Max Temp</dt><dd>80.28 °F</dd>\\n</dl>\\n',\n",
       " '\\n<dl>\\n<dt>Hotel Name</dt><dd>Scarborough Beach Resort</dd>\\n<dt>City</dt><dd>Redcliffe</dd>\\n<dt>Country</dt><dd>AU</dd>\\n<dt>Max Temp</dt><dd>80.6 °F</dd>\\n</dl>\\n',\n",
       " '\\n<dl>\\n<dt>Hotel Name</dt><dd>Radisson Blu Hotel Waterfront, Cape Town</dd>\\n<dt>City</dt><dd>Cape Town</dd>\\n<dt>Country</dt><dd>ZA</dd>\\n<dt>Max Temp</dt><dd>75.99 °F</dd>\\n</dl>\\n',\n",
       " '\\n<dl>\\n<dt>Hotel Name</dt><dd>Blue Bay Lodge</dd>\\n<dt>City</dt><dd>Saldanha</dd>\\n<dt>Country</dt><dd>ZA</dd>\\n<dt>Max Temp</dt><dd>75.2 °F</dd>\\n</dl>\\n',\n",
       " '\\n<dl>\\n<dt>Hotel Name</dt><dd>Hotel Jhennifer</dd>\\n<dt>City</dt><dd>Canutama</dd>\\n<dt>Country</dt><dd>BR</dd>\\n<dt>Max Temp</dt><dd>78.12 °F</dd>\\n</dl>\\n',\n",
       " '\\n<dl>\\n<dt>Hotel Name</dt><dd>International Lodge Motel</dd>\\n<dt>City</dt><dd>Mackay</dd>\\n<dt>Country</dt><dd>AU</dd>\\n<dt>Max Temp</dt><dd>82.4 °F</dd>\\n</dl>\\n',\n",
       " '\\n<dl>\\n<dt>Hotel Name</dt><dd>Ujamaa Beach Resort</dd>\\n<dt>City</dt><dd>Sokoni</dd>\\n<dt>Country</dt><dd>TZ</dd>\\n<dt>Max Temp</dt><dd>89.6 °F</dd>\\n</dl>\\n',\n",
       " '\\n<dl>\\n<dt>Hotel Name</dt><dd>Puri Brata</dd>\\n<dt>City</dt><dd>Bambanglipuro</dd>\\n<dt>Country</dt><dd>ID</dd>\\n<dt>Max Temp</dt><dd>77.56 °F</dd>\\n</dl>\\n',\n",
       " '\\n<dl>\\n<dt>Hotel Name</dt><dd>Lamana Hotel</dd>\\n<dt>City</dt><dd>Port Moresby</dd>\\n<dt>Country</dt><dd>PG</dd>\\n<dt>Max Temp</dt><dd>78.8 °F</dd>\\n</dl>\\n',\n",
       " '\\n<dl>\\n<dt>Hotel Name</dt><dd></dd>\\n<dt>City</dt><dd>Madruga</dd>\\n<dt>Country</dt><dd>CU</dd>\\n<dt>Max Temp</dt><dd>77.0 °F</dd>\\n</dl>\\n',\n",
       " '\\n<dl>\\n<dt>Hotel Name</dt><dd>شهدان. ابوالحجر</dd>\\n<dt>City</dt><dd>Jizan</dd>\\n<dt>Country</dt><dd>SA</dd>\\n<dt>Max Temp</dt><dd>80.6 °F</dd>\\n</dl>\\n',\n",
       " '\\n<dl>\\n<dt>Hotel Name</dt><dd>Hillside Resort Palawan</dd>\\n<dt>City</dt><dd>Bahile</dd>\\n<dt>Country</dt><dd>PH</dd>\\n<dt>Max Temp</dt><dd>77.05 °F</dd>\\n</dl>\\n',\n",
       " '\\n<dl>\\n<dt>Hotel Name</dt><dd>Desert Palms Alice Springs</dd>\\n<dt>City</dt><dd>Alice Springs</dd>\\n<dt>Country</dt><dd>AU</dd>\\n<dt>Max Temp</dt><dd>81.0 °F</dd>\\n</dl>\\n',\n",
       " '\\n<dl>\\n<dt>Hotel Name</dt><dd>Novo Hotel</dd>\\n<dt>City</dt><dd>Manacapuru</dd>\\n<dt>Country</dt><dd>BR</dd>\\n<dt>Max Temp</dt><dd>82.4 °F</dd>\\n</dl>\\n',\n",
       " '\\n<dl>\\n<dt>Hotel Name</dt><dd>Hotel On The Rock by Prasanthi</dd>\\n<dt>City</dt><dd>Kupang</dd>\\n<dt>Country</dt><dd>ID</dd>\\n<dt>Max Temp</dt><dd>79.56 °F</dd>\\n</dl>\\n',\n",
       " \"\\n<dl>\\n<dt>Hotel Name</dt><dd>Splendeur de l'équateur</dd>\\n<dt>City</dt><dd>Booue</dd>\\n<dt>Country</dt><dd>GA</dd>\\n<dt>Max Temp</dt><dd>82.51 °F</dd>\\n</dl>\\n\",\n",
       " '\\n<dl>\\n<dt>Hotel Name</dt><dd>Taba Hotel</dd>\\n<dt>City</dt><dd>Jaciara</dd>\\n<dt>Country</dt><dd>BR</dd>\\n<dt>Max Temp</dt><dd>89.38 °F</dd>\\n</dl>\\n',\n",
       " '\\n<dl>\\n<dt>Hotel Name</dt><dd>Expeditions Ténére voyages</dd>\\n<dt>City</dt><dd>Bilma</dd>\\n<dt>Country</dt><dd>NE</dd>\\n<dt>Max Temp</dt><dd>85.8 °F</dd>\\n</dl>\\n',\n",
       " '\\n<dl>\\n<dt>Hotel Name</dt><dd>OM B&B + Spa</dd>\\n<dt>City</dt><dd>Viamao</dd>\\n<dt>Country</dt><dd>BR</dd>\\n<dt>Max Temp</dt><dd>78.8 °F</dd>\\n</dl>\\n',\n",
       " '\\n<dl>\\n<dt>Hotel Name</dt><dd>Derogongan Residence</dd>\\n<dt>City</dt><dd>Marawi</dd>\\n<dt>Country</dt><dd>PH</dd>\\n<dt>Max Temp</dt><dd>75.99 °F</dd>\\n</dl>\\n',\n",
       " '\\n<dl>\\n<dt>Hotel Name</dt><dd>Nuevo Hotel Plaza</dd>\\n<dt>City</dt><dd>Chuy</dd>\\n<dt>Country</dt><dd>UY</dd>\\n<dt>Max Temp</dt><dd>75.31 °F</dd>\\n</dl>\\n',\n",
       " '\\n<dl>\\n<dt>Hotel Name</dt><dd>Storyboard Beach Resort</dd>\\n<dt>City</dt><dd>Kloulklubed</dd>\\n<dt>Country</dt><dd>PW</dd>\\n<dt>Max Temp</dt><dd>77.0 °F</dd>\\n</dl>\\n',\n",
       " '\\n<dl>\\n<dt>Hotel Name</dt><dd>Auberge du Routard</dd>\\n<dt>City</dt><dd>Oussouye</dd>\\n<dt>Country</dt><dd>SN</dd>\\n<dt>Max Temp</dt><dd>87.8 °F</dd>\\n</dl>\\n',\n",
       " '\\n<dl>\\n<dt>Hotel Name</dt><dd>RH HOTEL (4 Star)</dd>\\n<dt>City</dt><dd>Sibu</dd>\\n<dt>Country</dt><dd>MY</dd>\\n<dt>Max Temp</dt><dd>75.2 °F</dd>\\n</dl>\\n',\n",
       " '\\n<dl>\\n<dt>Hotel Name</dt><dd></dd>\\n<dt>City</dt><dd>Lahij</dd>\\n<dt>Country</dt><dd>YE</dd>\\n<dt>Max Temp</dt><dd>75.88 °F</dd>\\n</dl>\\n',\n",
       " '\\n<dl>\\n<dt>Hotel Name</dt><dd>ibis Styles Karratha</dd>\\n<dt>City</dt><dd>Karratha</dd>\\n<dt>Country</dt><dd>AU</dd>\\n<dt>Max Temp</dt><dd>80.01 °F</dd>\\n</dl>\\n',\n",
       " '\\n<dl>\\n<dt>Hotel Name</dt><dd>Desert Gardens Hotel - Ayers Rock Resort</dd>\\n<dt>City</dt><dd>Yulara</dd>\\n<dt>Country</dt><dd>AU</dd>\\n<dt>Max Temp</dt><dd>82.4 °F</dd>\\n</dl>\\n',\n",
       " '\\n<dl>\\n<dt>Hotel Name</dt><dd>Hotel Pousada Tropical</dd>\\n<dt>City</dt><dd>Barra Do Garcas</dd>\\n<dt>Country</dt><dd>BR</dd>\\n<dt>Max Temp</dt><dd>76.66 °F</dd>\\n</dl>\\n',\n",
       " '\\n<dl>\\n<dt>Hotel Name</dt><dd>Lidera</dd>\\n<dt>City</dt><dd>Carutapera</dd>\\n<dt>Country</dt><dd>BR</dd>\\n<dt>Max Temp</dt><dd>85.69 °F</dd>\\n</dl>\\n',\n",
       " '\\n<dl>\\n<dt>Hotel Name</dt><dd>Casa de Campo Resort and Villas</dd>\\n<dt>City</dt><dd>La Romana</dd>\\n<dt>Country</dt><dd>DO</dd>\\n<dt>Max Temp</dt><dd>78.8 °F</dd>\\n</dl>\\n',\n",
       " '\\n<dl>\\n<dt>Hotel Name</dt><dd>Shandrani Beachcomber Resort & Spa</dd>\\n<dt>City</dt><dd>Mahebourg</dd>\\n<dt>Country</dt><dd>MU</dd>\\n<dt>Max Temp</dt><dd>84.2 °F</dd>\\n</dl>\\n',\n",
       " '\\n<dl>\\n<dt>Hotel Name</dt><dd>Kevina Transient House</dd>\\n<dt>City</dt><dd>Aborlan</dd>\\n<dt>Country</dt><dd>PH</dd>\\n<dt>Max Temp</dt><dd>78.35 °F</dd>\\n</dl>\\n',\n",
       " '\\n<dl>\\n<dt>Hotel Name</dt><dd>Pousada Porto Praia</dd>\\n<dt>City</dt><dd>Arraial Do Cabo</dd>\\n<dt>Country</dt><dd>BR</dd>\\n<dt>Max Temp</dt><dd>78.8 °F</dd>\\n</dl>\\n',\n",
       " '\\n<dl>\\n<dt>Hotel Name</dt><dd>Foyer ADM</dd>\\n<dt>City</dt><dd>Mitsamiouli</dd>\\n<dt>Country</dt><dd>KM</dd>\\n<dt>Max Temp</dt><dd>89.6 °F</dd>\\n</dl>\\n',\n",
       " '\\n<dl>\\n<dt>Hotel Name</dt><dd>Conrad Bora Bora Nui</dd>\\n<dt>City</dt><dd>Vaitape</dd>\\n<dt>Country</dt><dd>PF</dd>\\n<dt>Max Temp</dt><dd>81.07 °F</dd>\\n</dl>\\n',\n",
       " '\\n<dl>\\n<dt>Hotel Name</dt><dd>Doha Marriott Hotel</dd>\\n<dt>City</dt><dd>Doha</dd>\\n<dt>Country</dt><dd>QA</dd>\\n<dt>Max Temp</dt><dd>78.8 °F</dd>\\n</dl>\\n',\n",
       " '\\n<dl>\\n<dt>Hotel Name</dt><dd>Hotel Alejandro I</dd>\\n<dt>City</dt><dd>Salta</dd>\\n<dt>Country</dt><dd>AR</dd>\\n<dt>Max Temp</dt><dd>75.2 °F</dd>\\n</dl>\\n',\n",
       " '\\n<dl>\\n<dt>Hotel Name</dt><dd>Bora-Bora Pearl Beach Resort & Spa</dd>\\n<dt>City</dt><dd>Faanui</dd>\\n<dt>Country</dt><dd>PF</dd>\\n<dt>Max Temp</dt><dd>81.07 °F</dd>\\n</dl>\\n',\n",
       " '\\n<dl>\\n<dt>Hotel Name</dt><dd>Atlantis Hotel</dd>\\n<dt>City</dt><dd>Bathsheba</dd>\\n<dt>Country</dt><dd>BB</dd>\\n<dt>Max Temp</dt><dd>84.2 °F</dd>\\n</dl>\\n',\n",
       " '\\n<dl>\\n<dt>Hotel Name</dt><dd>Casa Dora, Bubaque</dd>\\n<dt>City</dt><dd>Bubaque</dd>\\n<dt>Country</dt><dd>GW</dd>\\n<dt>Max Temp</dt><dd>78.67 °F</dd>\\n</dl>\\n',\n",
       " '\\n<dl>\\n<dt>Hotel Name</dt><dd>Motel Fantasy Star</dd>\\n<dt>City</dt><dd>Carolina</dd>\\n<dt>Country</dt><dd>PR</dd>\\n<dt>Max Temp</dt><dd>80.6 °F</dd>\\n</dl>\\n',\n",
       " '\\n<dl>\\n<dt>Hotel Name</dt><dd></dd>\\n<dt>City</dt><dd>Gamba</dd>\\n<dt>Country</dt><dd>GA</dd>\\n<dt>Max Temp</dt><dd>80.62 °F</dd>\\n</dl>\\n',\n",
       " '\\n<dl>\\n<dt>Hotel Name</dt><dd>Cititel Penang</dd>\\n<dt>City</dt><dd>Georgetown</dd>\\n<dt>Country</dt><dd>MY</dd>\\n<dt>Max Temp</dt><dd>86.0 °F</dd>\\n</dl>\\n',\n",
       " '\\n<dl>\\n<dt>Hotel Name</dt><dd>Pereybere Hotel & Spa</dd>\\n<dt>City</dt><dd>Cap Malheureux</dd>\\n<dt>Country</dt><dd>MU</dd>\\n<dt>Max Temp</dt><dd>82.99 °F</dd>\\n</dl>\\n',\n",
       " '\\n<dl>\\n<dt>Hotel Name</dt><dd>Namatanai Hotel</dd>\\n<dt>City</dt><dd>Namatanai</dd>\\n<dt>Country</dt><dd>PG</dd>\\n<dt>Max Temp</dt><dd>80.78 °F</dd>\\n</dl>\\n',\n",
       " '\\n<dl>\\n<dt>Hotel Name</dt><dd>Chambres d\\'hôte \"La Trinité\"</dd>\\n<dt>City</dt><dd>Saint-Philippe</dd>\\n<dt>Country</dt><dd>RE</dd>\\n<dt>Max Temp</dt><dd>86.0 °F</dd>\\n</dl>\\n',\n",
       " '\\n<dl>\\n<dt>Hotel Name</dt><dd>Lamu House</dd>\\n<dt>City</dt><dd>Lamu</dd>\\n<dt>Country</dt><dd>KE</dd>\\n<dt>Max Temp</dt><dd>84.2 °F</dd>\\n</dl>\\n',\n",
       " '\\n<dl>\\n<dt>Hotel Name</dt><dd>Résidence Okanda</dd>\\n<dt>City</dt><dd>Kindu</dd>\\n<dt>Country</dt><dd>CD</dd>\\n<dt>Max Temp</dt><dd>85.98 °F</dd>\\n</dl>\\n',\n",
       " '\\n<dl>\\n<dt>Hotel Name</dt><dd>Dibbo areaمنطقة دبو</dd>\\n<dt>City</dt><dd>Kutum</dd>\\n<dt>Country</dt><dd>SD</dd>\\n<dt>Max Temp</dt><dd>78.66 °F</dd>\\n</dl>\\n',\n",
       " '\\n<dl>\\n<dt>Hotel Name</dt><dd>Monte Carlo</dd>\\n<dt>City</dt><dd>Villa Carlos Paz</dd>\\n<dt>Country</dt><dd>AR</dd>\\n<dt>Max Temp</dt><dd>86.0 °F</dd>\\n</dl>\\n',\n",
       " '\\n<dl>\\n<dt>Hotel Name</dt><dd>Edícula Charmosa com Piscina e Jardim em Condomínio Fechado</dd>\\n<dt>City</dt><dd>Vargem Grande Do Sul</dd>\\n<dt>Country</dt><dd>BR</dd>\\n<dt>Max Temp</dt><dd>78.8 °F</dd>\\n</dl>\\n',\n",
       " '\\n<dl>\\n<dt>Hotel Name</dt><dd>LIKWALE LODGE</dd>\\n<dt>City</dt><dd>Mayumba</dd>\\n<dt>Country</dt><dd>GA</dd>\\n<dt>Max Temp</dt><dd>83.23 °F</dd>\\n</dl>\\n',\n",
       " '\\n<dl>\\n<dt>Hotel Name</dt><dd>Lindsey Hôtel</dd>\\n<dt>City</dt><dd>Saint-Pierre</dd>\\n<dt>Country</dt><dd>RE</dd>\\n<dt>Max Temp</dt><dd>86.0 °F</dd>\\n</dl>\\n',\n",
       " '\\n<dl>\\n<dt>Hotel Name</dt><dd></dd>\\n<dt>City</dt><dd>Jutai</dd>\\n<dt>Country</dt><dd>BR</dd>\\n<dt>Max Temp</dt><dd>82.02 °F</dd>\\n</dl>\\n',\n",
       " '\\n<dl>\\n<dt>Hotel Name</dt><dd>Welcomhotel Bay Island Port Blair</dd>\\n<dt>City</dt><dd>Port Blair</dd>\\n<dt>Country</dt><dd>IN</dd>\\n<dt>Max Temp</dt><dd>79.97 °F</dd>\\n</dl>\\n',\n",
       " '\\n<dl>\\n<dt>Hotel Name</dt><dd>Casa Tia Villa</dd>\\n<dt>City</dt><dd>Bambous Virieux</dd>\\n<dt>Country</dt><dd>MU</dd>\\n<dt>Max Temp</dt><dd>84.2 °F</dd>\\n</dl>\\n',\n",
       " '\\n<dl>\\n<dt>Hotel Name</dt><dd>Hotel Posada San Jose</dd>\\n<dt>City</dt><dd>Pochutla</dd>\\n<dt>Country</dt><dd>MX</dd>\\n<dt>Max Temp</dt><dd>75.2 °F</dd>\\n</dl>\\n',\n",
       " '\\n<dl>\\n<dt>Hotel Name</dt><dd>Hotel Phyccus</dd>\\n<dt>City</dt><dd>Ipira</dd>\\n<dt>Country</dt><dd>BR</dd>\\n<dt>Max Temp</dt><dd>89.31 °F</dd>\\n</dl>\\n',\n",
       " '\\n<dl>\\n<dt>Hotel Name</dt><dd>Parkir Mobil Wisata CAS Water Park</dd>\\n<dt>City</dt><dd>Karaton</dd>\\n<dt>Country</dt><dd>ID</dd>\\n<dt>Max Temp</dt><dd>82.0 °F</dd>\\n</dl>\\n',\n",
       " '\\n<dl>\\n<dt>Hotel Name</dt><dd>Villa Netibor</dd>\\n<dt>City</dt><dd>Koungou</dd>\\n<dt>Country</dt><dd>YT</dd>\\n<dt>Max Temp</dt><dd>82.4 °F</dd>\\n</dl>\\n',\n",
       " '\\n<dl>\\n<dt>Hotel Name</dt><dd>JABIR HOTEL</dd>\\n<dt>City</dt><dd>Bandarbeyla</dd>\\n<dt>Country</dt><dd>SO</dd>\\n<dt>Max Temp</dt><dd>77.77 °F</dd>\\n</dl>\\n',\n",
       " \"\\n<dl>\\n<dt>Hotel Name</dt><dd>Shovy's Cove</dd>\\n<dt>City</dt><dd>Baculin</dd>\\n<dt>Country</dt><dd>PH</dd>\\n<dt>Max Temp</dt><dd>76.71 °F</dd>\\n</dl>\\n\",\n",
       " '\\n<dl>\\n<dt>Hotel Name</dt><dd>ร้าน\\u200b เวดดิ้ง</dd>\\n<dt>City</dt><dd>Sai Buri</dd>\\n<dt>Country</dt><dd>TH</dd>\\n<dt>Max Temp</dt><dd>76.86 °F</dd>\\n</dl>\\n',\n",
       " '\\n<dl>\\n<dt>Hotel Name</dt><dd></dd>\\n<dt>City</dt><dd>Cusuna</dd>\\n<dt>Country</dt><dd>HN</dd>\\n<dt>Max Temp</dt><dd>76.86 °F</dd>\\n</dl>\\n',\n",
       " '\\n<dl>\\n<dt>Hotel Name</dt><dd>Case de Passage De la Prefecture</dd>\\n<dt>City</dt><dd>Arlit</dd>\\n<dt>Country</dt><dd>NE</dd>\\n<dt>Max Temp</dt><dd>87.93 °F</dd>\\n</dl>\\n',\n",
       " '\\n<dl>\\n<dt>Hotel Name</dt><dd>Hotel Provincial</dd>\\n<dt>City</dt><dd>San Juan</dd>\\n<dt>Country</dt><dd>AR</dd>\\n<dt>Max Temp</dt><dd>87.17 °F</dd>\\n</dl>\\n',\n",
       " '\\n<dl>\\n<dt>Hotel Name</dt><dd>Huarpes Hotel</dd>\\n<dt>City</dt><dd>San Luis</dd>\\n<dt>Country</dt><dd>AR</dd>\\n<dt>Max Temp</dt><dd>83.48 °F</dd>\\n</dl>\\n',\n",
       " '\\n<dl>\\n<dt>Hotel Name</dt><dd>BON Hotel Waterfront Richards Bay</dd>\\n<dt>City</dt><dd>Richards Bay</dd>\\n<dt>Country</dt><dd>ZA</dd>\\n<dt>Max Temp</dt><dd>82.56 °F</dd>\\n</dl>\\n',\n",
       " '\\n<dl>\\n<dt>Hotel Name</dt><dd>Oumou Elghoura</dd>\\n<dt>City</dt><dd>Atar</dd>\\n<dt>Country</dt><dd>MR</dd>\\n<dt>Max Temp</dt><dd>75.56 °F</dd>\\n</dl>\\n',\n",
       " '\\n<dl>\\n<dt>Hotel Name</dt><dd></dd>\\n<dt>City</dt><dd>Mopti</dd>\\n<dt>Country</dt><dd>ML</dd>\\n<dt>Max Temp</dt><dd>88.99 °F</dd>\\n</dl>\\n',\n",
       " '\\n<dl>\\n<dt>Hotel Name</dt><dd>Hotel Verano Plaza</dd>\\n<dt>City</dt><dd>Arauca</dd>\\n<dt>Country</dt><dd>CO</dd>\\n<dt>Max Temp</dt><dd>84.27 °F</dd>\\n</dl>\\n',\n",
       " '\\n<dl>\\n<dt>Hotel Name</dt><dd>Grand Vilia Hotel</dd>\\n<dt>City</dt><dd>Tual</dd>\\n<dt>Country</dt><dd>ID</dd>\\n<dt>Max Temp</dt><dd>83.71 °F</dd>\\n</dl>\\n',\n",
       " '\\n<dl>\\n<dt>Hotel Name</dt><dd>Villa Park Hotel | Natal</dd>\\n<dt>City</dt><dd>Natal</dd>\\n<dt>Country</dt><dd>BR</dd>\\n<dt>Max Temp</dt><dd>89.6 °F</dd>\\n</dl>\\n',\n",
       " '\\n<dl>\\n<dt>Hotel Name</dt><dd>Hotel Campos</dd>\\n<dt>City</dt><dd>Itaituba</dd>\\n<dt>Country</dt><dd>BR</dd>\\n<dt>Max Temp</dt><dd>86.0 °F</dd>\\n</dl>\\n',\n",
       " '\\n<dl>\\n<dt>Hotel Name</dt><dd>Abaco Beach Resort</dd>\\n<dt>City</dt><dd>Marsh Harbour</dd>\\n<dt>Country</dt><dd>BS</dd>\\n<dt>Max Temp</dt><dd>76.96 °F</dd>\\n</dl>\\n',\n",
       " '\\n<dl>\\n<dt>Hotel Name</dt><dd>Lambitu Hotel</dd>\\n<dt>City</dt><dd>Bima</dd>\\n<dt>Country</dt><dd>ID</dd>\\n<dt>Max Temp</dt><dd>77.25 °F</dd>\\n</dl>\\n',\n",
       " '\\n<dl>\\n<dt>Hotel Name</dt><dd>Tik Hotel</dd>\\n<dt>City</dt><dd>Hoima</dd>\\n<dt>Country</dt><dd>UG</dd>\\n<dt>Max Temp</dt><dd>89.01 °F</dd>\\n</dl>\\n',\n",
       " '\\n<dl>\\n<dt>Hotel Name</dt><dd>SEGAYA PROPERTY</dd>\\n<dt>City</dt><dd>Dingle</dd>\\n<dt>Country</dt><dd>PH</dd>\\n<dt>Max Temp</dt><dd>76.05 °F</dd>\\n</dl>\\n',\n",
       " '\\n<dl>\\n<dt>Hotel Name</dt><dd>Maitai Lapita Village Huahine</dd>\\n<dt>City</dt><dd>Fare</dd>\\n<dt>Country</dt><dd>PF</dd>\\n<dt>Max Temp</dt><dd>81.01 °F</dd>\\n</dl>\\n',\n",
       " '\\n<dl>\\n<dt>Hotel Name</dt><dd>Daru Lodge</dd>\\n<dt>City</dt><dd>Daru</dd>\\n<dt>Country</dt><dd>PG</dd>\\n<dt>Max Temp</dt><dd>79.63 °F</dd>\\n</dl>\\n',\n",
       " '\\n<dl>\\n<dt>Hotel Name</dt><dd>Villa Mar Colina</dd>\\n<dt>City</dt><dd>Yeppoon</dd>\\n<dt>Country</dt><dd>AU</dd>\\n<dt>Max Temp</dt><dd>82.4 °F</dd>\\n</dl>\\n',\n",
       " '\\n<dl>\\n<dt>Hotel Name</dt><dd>Hotel San Rafael</dd>\\n<dt>City</dt><dd>San Rafael</dd>\\n<dt>Country</dt><dd>AR</dd>\\n<dt>Max Temp</dt><dd>83.7 °F</dd>\\n</dl>\\n',\n",
       " '\\n<dl>\\n<dt>Hotel Name</dt><dd>Black Marlin Restaurant & Hospedaje</dd>\\n<dt>City</dt><dd>El Alto</dd>\\n<dt>Country</dt><dd>PE</dd>\\n<dt>Max Temp</dt><dd>86.0 °F</dd>\\n</dl>\\n',\n",
       " '\\n<dl>\\n<dt>Hotel Name</dt><dd>Gold Star International Hotel</dd>\\n<dt>City</dt><dd>Bunia</dd>\\n<dt>Country</dt><dd>CD</dd>\\n<dt>Max Temp</dt><dd>87.93 °F</dd>\\n</dl>\\n',\n",
       " '\\n<dl>\\n<dt>Hotel Name</dt><dd></dd>\\n<dt>City</dt><dd>Madimba</dd>\\n<dt>Country</dt><dd>TZ</dd>\\n<dt>Max Temp</dt><dd>82.4 °F</dd>\\n</dl>\\n',\n",
       " '\\n<dl>\\n<dt>Hotel Name</dt><dd>JM Lodge</dd>\\n<dt>City</dt><dd>Alugan</dd>\\n<dt>Country</dt><dd>PH</dd>\\n<dt>Max Temp</dt><dd>80.02 °F</dd>\\n</dl>\\n',\n",
       " '\\n<dl>\\n<dt>Hotel Name</dt><dd>Hôtel Le Lagon</dd>\\n<dt>City</dt><dd>Noumea</dd>\\n<dt>Country</dt><dd>NC</dd>\\n<dt>Max Temp</dt><dd>79.0 °F</dd>\\n</dl>\\n',\n",
       " '\\n<dl>\\n<dt>Hotel Name</dt><dd>Pension Oaoa</dd>\\n<dt>City</dt><dd>Tautira</dd>\\n<dt>Country</dt><dd>PF</dd>\\n<dt>Max Temp</dt><dd>75.2 °F</dd>\\n</dl>\\n',\n",
       " '\\n<dl>\\n<dt>Hotel Name</dt><dd>La Caz Oceane</dd>\\n<dt>City</dt><dd>Saint-Leu</dd>\\n<dt>Country</dt><dd>RE</dd>\\n<dt>Max Temp</dt><dd>86.0 °F</dd>\\n</dl>\\n',\n",
       " '\\n<dl>\\n<dt>Hotel Name</dt><dd>Puri Brata</dd>\\n<dt>City</dt><dd>Srandakan</dd>\\n<dt>Country</dt><dd>ID</dd>\\n<dt>Max Temp</dt><dd>77.68 °F</dd>\\n</dl>\\n',\n",
       " '\\n<dl>\\n<dt>Hotel Name</dt><dd></dd>\\n<dt>City</dt><dd>Thinadhoo</dd>\\n<dt>Country</dt><dd>MV</dd>\\n<dt>Max Temp</dt><dd>82.0 °F</dd>\\n</dl>\\n',\n",
       " '\\n<dl>\\n<dt>Hotel Name</dt><dd>OYO 412 Viewfort Venue</dd>\\n<dt>City</dt><dd>San Pedro</dd>\\n<dt>Country</dt><dd>PH</dd>\\n<dt>Max Temp</dt><dd>80.6 °F</dd>\\n</dl>\\n',\n",
       " '\\n<dl>\\n<dt>Hotel Name</dt><dd>la casona de juancho</dd>\\n<dt>City</dt><dd>Puerto Leguizamo</dd>\\n<dt>Country</dt><dd>CO</dd>\\n<dt>Max Temp</dt><dd>80.96 °F</dd>\\n</dl>\\n',\n",
       " '\\n<dl>\\n<dt>Hotel Name</dt><dd>Hotel Santika Palu</dd>\\n<dt>City</dt><dd>Palu</dd>\\n<dt>Country</dt><dd>ID</dd>\\n<dt>Max Temp</dt><dd>77.0 °F</dd>\\n</dl>\\n',\n",
       " '\\n<dl>\\n<dt>Hotel Name</dt><dd>Iberotel Luxor</dd>\\n<dt>City</dt><dd>Luxor</dd>\\n<dt>Country</dt><dd>EG</dd>\\n<dt>Max Temp</dt><dd>78.8 °F</dd>\\n</dl>\\n',\n",
       " '\\n<dl>\\n<dt>Hotel Name</dt><dd>Bungalow 63</dd>\\n<dt>City</dt><dd>Hambantota</dd>\\n<dt>Country</dt><dd>LK</dd>\\n<dt>Max Temp</dt><dd>80.6 °F</dd>\\n</dl>\\n',\n",
       " '\\n<dl>\\n<dt>Hotel Name</dt><dd>Nuli Sapi</dd>\\n<dt>City</dt><dd>Samarai</dd>\\n<dt>Country</dt><dd>PG</dd>\\n<dt>Max Temp</dt><dd>82.99 °F</dd>\\n</dl>\\n',\n",
       " '\\n<dl>\\n<dt>Hotel Name</dt><dd>Hotel Castelo</dd>\\n<dt>City</dt><dd>Cidreira</dd>\\n<dt>Country</dt><dd>BR</dd>\\n<dt>Max Temp</dt><dd>75.72 °F</dd>\\n</dl>\\n',\n",
       " '\\n<dl>\\n<dt>Hotel Name</dt><dd>Omadhoo Inn</dd>\\n<dt>City</dt><dd>Mahibadhoo</dd>\\n<dt>Country</dt><dd>MV</dd>\\n<dt>Max Temp</dt><dd>82.15 °F</dd>\\n</dl>\\n',\n",
       " '\\n<dl>\\n<dt>Hotel Name</dt><dd>Fuente del Guania Hotel de Lujo</dd>\\n<dt>City</dt><dd>Inirida</dd>\\n<dt>Country</dt><dd>CO</dd>\\n<dt>Max Temp</dt><dd>77.32 °F</dd>\\n</dl>\\n',\n",
       " '\\n<dl>\\n<dt>Hotel Name</dt><dd>Mystic Sands</dd>\\n<dt>City</dt><dd>Neiafu</dd>\\n<dt>Country</dt><dd>TO</dd>\\n<dt>Max Temp</dt><dd>77.0 °F</dd>\\n</dl>\\n',\n",
       " '\\n<dl>\\n<dt>Hotel Name</dt><dd>Hotel Kou-Bugny</dd>\\n<dt>City</dt><dd>Vao</dd>\\n<dt>Country</dt><dd>NC</dd>\\n<dt>Max Temp</dt><dd>77.29 °F</dd>\\n</dl>\\n',\n",
       " '\\n<dl>\\n<dt>Hotel Name</dt><dd>Weligama Bay Resort</dd>\\n<dt>City</dt><dd>Weligama</dd>\\n<dt>Country</dt><dd>LK</dd>\\n<dt>Max Temp</dt><dd>77.86 °F</dd>\\n</dl>\\n',\n",
       " '\\n<dl>\\n<dt>Hotel Name</dt><dd>castelo pizzaria</dd>\\n<dt>City</dt><dd>Acarau</dd>\\n<dt>Country</dt><dd>BR</dd>\\n<dt>Max Temp</dt><dd>88.39 °F</dd>\\n</dl>\\n',\n",
       " '\\n<dl>\\n<dt>Hotel Name</dt><dd>Halane Hotel and Restaurent</dd>\\n<dt>City</dt><dd>Hobyo</dd>\\n<dt>Country</dt><dd>SO</dd>\\n<dt>Max Temp</dt><dd>80.64 °F</dd>\\n</dl>\\n',\n",
       " '\\n<dl>\\n<dt>Hotel Name</dt><dd></dd>\\n<dt>City</dt><dd>Taoudenni</dd>\\n<dt>Country</dt><dd>ML</dd>\\n<dt>Max Temp</dt><dd>76.08 °F</dd>\\n</dl>\\n',\n",
       " '\\n<dl>\\n<dt>Hotel Name</dt><dd>Sea Lounge! Bar, Club & Restaurant</dd>\\n<dt>City</dt><dd>Itarema</dd>\\n<dt>Country</dt><dd>BR</dd>\\n<dt>Max Temp</dt><dd>89.11 °F</dd>\\n</dl>\\n',\n",
       " '\\n<dl>\\n<dt>Hotel Name</dt><dd>S V Comforts</dd>\\n<dt>City</dt><dd>Melukote</dd>\\n<dt>Country</dt><dd>IN</dd>\\n<dt>Max Temp</dt><dd>78.8 °F</dd>\\n</dl>\\n',\n",
       " '\\n<dl>\\n<dt>Hotel Name</dt><dd>Mantra Trilogy Cairns</dd>\\n<dt>City</dt><dd>Cairns</dd>\\n<dt>Country</dt><dd>AU</dd>\\n<dt>Max Temp</dt><dd>82.0 °F</dd>\\n</dl>\\n',\n",
       " '\\n<dl>\\n<dt>Hotel Name</dt><dd>Leonardo Family Beach House 1</dd>\\n<dt>City</dt><dd>Pundaguitan</dd>\\n<dt>Country</dt><dd>PH</dd>\\n<dt>Max Temp</dt><dd>80.65 °F</dd>\\n</dl>\\n',\n",
       " '\\n<dl>\\n<dt>Hotel Name</dt><dd>حامد محمد نور</dd>\\n<dt>City</dt><dd>Abu Zabad</dd>\\n<dt>Country</dt><dd>SD</dd>\\n<dt>Max Temp</dt><dd>85.03 °F</dd>\\n</dl>\\n',\n",
       " '\\n<dl>\\n<dt>Hotel Name</dt><dd>Bonthe Holiday Village</dd>\\n<dt>City</dt><dd>Bonthe</dd>\\n<dt>Country</dt><dd>SL</dd>\\n<dt>Max Temp</dt><dd>86.0 °F</dd>\\n</dl>\\n',\n",
       " '\\n<dl>\\n<dt>Hotel Name</dt><dd>Enon Beach Resort</dd>\\n<dt>City</dt><dd>Buluang</dd>\\n<dt>Country</dt><dd>PH</dd>\\n<dt>Max Temp</dt><dd>76.1 °F</dd>\\n</dl>\\n',\n",
       " '\\n<dl>\\n<dt>Hotel Name</dt><dd></dd>\\n<dt>City</dt><dd>Kaniama</dd>\\n<dt>Country</dt><dd>CD</dd>\\n<dt>Max Temp</dt><dd>77.43 °F</dd>\\n</dl>\\n',\n",
       " '\\n<dl>\\n<dt>Hotel Name</dt><dd>Hostal Las V</dd>\\n<dt>City</dt><dd>Manicaragua</dd>\\n<dt>Country</dt><dd>CU</dd>\\n<dt>Max Temp</dt><dd>77.0 °F</dd>\\n</dl>\\n',\n",
       " '\\n<dl>\\n<dt>Hotel Name</dt><dd>The Raviz Ashtamudi</dd>\\n<dt>City</dt><dd>Kollam</dd>\\n<dt>Country</dt><dd>IN</dd>\\n<dt>Max Temp</dt><dd>86.0 °F</dd>\\n</dl>\\n',\n",
       " '\\n<dl>\\n<dt>Hotel Name</dt><dd>HopeFay Conference Centre</dd>\\n<dt>City</dt><dd>Marondera</dd>\\n<dt>Country</dt><dd>ZW</dd>\\n<dt>Max Temp</dt><dd>77.79 °F</dd>\\n</dl>\\n',\n",
       " '\\n<dl>\\n<dt>Hotel Name</dt><dd>Corner Point Lodge</dd>\\n<dt>City</dt><dd>Namwala</dd>\\n<dt>Country</dt><dd>ZM</dd>\\n<dt>Max Temp</dt><dd>78.82 °F</dd>\\n</dl>\\n',\n",
       " '\\n<dl>\\n<dt>Hotel Name</dt><dd>Beleza Pura B&B</dd>\\n<dt>City</dt><dd>Rocha</dd>\\n<dt>Country</dt><dd>UY</dd>\\n<dt>Max Temp</dt><dd>76.77 °F</dd>\\n</dl>\\n',\n",
       " '\\n<dl>\\n<dt>Hotel Name</dt><dd>Pousada dos Navegantes</dd>\\n<dt>City</dt><dd>Caravelas</dd>\\n<dt>Country</dt><dd>BR</dd>\\n<dt>Max Temp</dt><dd>84.7 °F</dd>\\n</dl>\\n',\n",
       " '\\n<dl>\\n<dt>Hotel Name</dt><dd>Hôtel Le Dronmi</dd>\\n<dt>City</dt><dd>Cayenne</dd>\\n<dt>Country</dt><dd>GF</dd>\\n<dt>Max Temp</dt><dd>82.4 °F</dd>\\n</dl>\\n',\n",
       " '\\n<dl>\\n<dt>Hotel Name</dt><dd>Tour Eiffel Hotel Benin</dd>\\n<dt>City</dt><dd>Porto Novo</dd>\\n<dt>Country</dt><dd>BJ</dd>\\n<dt>Max Temp</dt><dd>89.6 °F</dd>\\n</dl>\\n',\n",
       " '\\n<dl>\\n<dt>Hotel Name</dt><dd>Shanti Maurice Resort & Spa</dd>\\n<dt>City</dt><dd>Souillac</dd>\\n<dt>Country</dt><dd>MU</dd>\\n<dt>Max Temp</dt><dd>84.2 °F</dd>\\n</dl>\\n',\n",
       " \"\\n<dl>\\n<dt>Hotel Name</dt><dd>L'Appartement de la Baie</dd>\\n<dt>City</dt><dd>La Trinite</dd>\\n<dt>Country</dt><dd>MQ</dd>\\n<dt>Max Temp</dt><dd>80.6 °F</dd>\\n</dl>\\n\",\n",
       " '\\n<dl>\\n<dt>Hotel Name</dt><dd>Hotel Vision</dd>\\n<dt>City</dt><dd>Cuamba</dd>\\n<dt>Country</dt><dd>MZ</dd>\\n<dt>Max Temp</dt><dd>83.35 °F</dd>\\n</dl>\\n',\n",
       " '\\n<dl>\\n<dt>Hotel Name</dt><dd>Pirineos</dd>\\n<dt>City</dt><dd>San Cristobal</dd>\\n<dt>Country</dt><dd>VE</dd>\\n<dt>Max Temp</dt><dd>80.6 °F</dd>\\n</dl>\\n',\n",
       " '\\n<dl>\\n<dt>Hotel Name</dt><dd>Hotel Pigalle</dd>\\n<dt>City</dt><dd>Cabedelo</dd>\\n<dt>Country</dt><dd>BR</dd>\\n<dt>Max Temp</dt><dd>87.8 °F</dd>\\n</dl>\\n']"
      ]
     },
     "execution_count": 39,
     "metadata": {},
     "output_type": "execute_result"
    }
   ],
   "source": [
    "# Store the DataFrame Row.\n",
    "hotel_info = [info_box_template.format(**row) for index, row in hotel_df.iterrows()]\n",
    "hotel_info"
   ]
  },
  {
   "cell_type": "code",
   "execution_count": 40,
   "metadata": {},
   "outputs": [
    {
     "data": {
      "application/vnd.jupyter.widget-view+json": {
       "model_id": "b526ed424ac548debe392ceef658e551",
       "version_major": 2,
       "version_minor": 0
      },
      "text/plain": [
       "Figure(layout=FigureLayout(height='420px'))"
      ]
     },
     "metadata": {},
     "output_type": "display_data"
    }
   ],
   "source": [
    "# Add a heatmap of temperature for the vacation spots and a pop-up marker for each city.\n",
    "locations = hotel_df[[\"Lat\", \"Lng\"]]\n",
    "max_temp = hotel_df[\"Max Temp\"]\n",
    "fig = gmaps.figure(center=(30.0, 31.0), zoom_level=1.5)\n",
    "heat_layer = gmaps.heatmap_layer(locations, weights=max_temp,dissipating=False,\n",
    "             max_intensity=300, point_radius=4)\n",
    "marker_layer = gmaps.marker_layer(locations, info_box_content=hotel_info)\n",
    "fig.add_layer(heat_layer)\n",
    "fig.add_layer(marker_layer)\n",
    "\n",
    "# Call the figure to plot the data.\n",
    "fig"
   ]
  },
  {
   "cell_type": "code",
   "execution_count": null,
   "metadata": {},
   "outputs": [],
   "source": []
  }
 ],
 "metadata": {
  "kernelspec": {
   "display_name": "PythonData",
   "language": "python",
   "name": "pythondata"
  },
  "language_info": {
   "codemirror_mode": {
    "name": "ipython",
    "version": 3
   },
   "file_extension": ".py",
   "mimetype": "text/x-python",
   "name": "python",
   "nbconvert_exporter": "python",
   "pygments_lexer": "ipython3",
   "version": "3.7.9"
  }
 },
 "nbformat": 4,
 "nbformat_minor": 4
}
